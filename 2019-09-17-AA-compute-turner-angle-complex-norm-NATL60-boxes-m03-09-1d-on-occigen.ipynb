{
 "cells": [
  {
   "cell_type": "code",
   "execution_count": 1,
   "metadata": {},
   "outputs": [
    {
     "name": "stderr",
     "output_type": "stream",
     "text": [
      "/scratch/cnt0024/hmg2840/albert7a/anaconda3/lib/python3.7/site-packages/distributed/dashboard/core.py:74: UserWarning: \n",
      "Failed to start diagnostics server on port 8787. [Errno 13] Permission denied\n",
      "  warnings.warn(\"\\n\" + msg)\n"
     ]
    }
   ],
   "source": [
    "import dask\n",
    "import dask.threaded\n",
    "import dask.multiprocessing\n",
    "from dask.distributed import Client\n",
    "\n",
    "c = Client()\n"
   ]
  },
  {
   "cell_type": "code",
   "execution_count": 2,
   "metadata": {},
   "outputs": [
    {
     "data": {
      "text/html": [
       "<table style=\"border: 2px solid white;\">\n",
       "<tr>\n",
       "<td style=\"vertical-align: top; border: 0px solid white\">\n",
       "<h3>Client</h3>\n",
       "<ul>\n",
       "  <li><b>Scheduler: </b>tcp://127.0.0.1:37231\n",
       "  <li><b>Dashboard: </b><a href='http://127.0.0.1:39363/status' target='_blank'>http://127.0.0.1:39363/status</a>\n",
       "</ul>\n",
       "</td>\n",
       "<td style=\"vertical-align: top; border: 0px solid white\">\n",
       "<h3>Cluster</h3>\n",
       "<ul>\n",
       "  <li><b>Workers: </b>8</li>\n",
       "  <li><b>Cores: </b>48</li>\n",
       "  <li><b>Memory: </b>134.91 GB</li>\n",
       "</ul>\n",
       "</td>\n",
       "</tr>\n",
       "</table>"
      ],
      "text/plain": [
       "<Client: scheduler='tcp://127.0.0.1:37231' processes=8 cores=48>"
      ]
     },
     "execution_count": 2,
     "metadata": {},
     "output_type": "execute_result"
    }
   ],
   "source": [
    "c"
   ]
  },
  {
   "cell_type": "code",
   "execution_count": 3,
   "metadata": {},
   "outputs": [],
   "source": [
    "import xarray as xr \n",
    "import dask \n",
    "import numpy as np \n",
    "import os \n",
    "import time \n",
    "import glob\n",
    "from datetime import date\n",
    "import numpy.ma as ma\n",
    "\n",
    "today=date.today()\n",
    "\n",
    "#https://pmall.univ-grenoble-alpes.fr/docs/auto_examples_code/windrose/windrose-exemple.html"
   ]
  },
  {
   "cell_type": "code",
   "execution_count": 4,
   "metadata": {},
   "outputs": [],
   "source": [
    "def dx_var(data,e1):\n",
    "    dx_var = (data.shift(x=-1) - data)/e1\n",
    "    return dx_var\n",
    "def dy_var(data,e2):\n",
    "    dy_var = (data.shift(y=-1) - data)/e2\n",
    "    return dy_var\n",
    "def alpha_beta(tem,salt):\n",
    "    zt=tem-10  #potential temperature anomaly\n",
    "    zs=salt-35 #abs salinity anomaly\n",
    "    zh=0.4804548 # depth at the surface\n",
    "    rn_a0=1.6550e-1 # thermal expansion coeff\n",
    "    rn_b0=7.6554e-1 # saline  expansion coeff\n",
    "    rn_lambda1=5.9520e-2 #cabbeling coeff. in T^2\n",
    "    rn_mu1=1.4970e-4 #thermobaric coeff. in T\n",
    "    rn_nu=2.4341e-3 #cabbeling coeff. in theta*salt  \n",
    "    rau0=1026  #volumic mass of reference     [kg/m3]\n",
    "    r1_rau0= 1/rau0\n",
    "    rn_lambda2=5.4914e-4 #cabbeling coeff. in S^2\n",
    "    rn_mu2=1.1090e-5 #thermobaric coeff. in S\n",
    "    zn  = rn_a0 * ( 1. + rn_lambda1*zt + rn_mu1*zh ) + rn_nu*zs\n",
    "    alpha=zn * r1_rau0 \n",
    "    zn  = rn_b0 * ( 1. - rn_lambda2*zs - rn_mu2*zh ) - rn_nu*zt\n",
    "    beta=zn * r1_rau0\n",
    "    return alpha,beta"
   ]
  },
  {
   "cell_type": "code",
   "execution_count": 5,
   "metadata": {},
   "outputs": [],
   "source": [
    "data_dir = '/store/molines/NATL60/NATL60-CJM165-S/1d/'\n",
    "gridfile='/store/molines/NATL60/NATL60-I/NATL60_v4.1_cdf_mesh_hgr.nc'\n",
    "dsgrid=xr.open_dataset(gridfile,chunks={'x':1000,'y':1000})"
   ]
  },
  {
   "cell_type": "code",
   "execution_count": 6,
   "metadata": {},
   "outputs": [],
   "source": [
    "e1=dsgrid['e1t'][0]\n",
    "e2=dsgrid['e2t'][0]\n"
   ]
  },
  {
   "cell_type": "code",
   "execution_count": 7,
   "metadata": {},
   "outputs": [],
   "source": [
    "imin = {'AC' : 3088, 'NE' :3838, 'GS' : 994}\n",
    "imax = {'AC' : 3386, 'NE' :4119, 'GS' : 1295}\n",
    "jmin = {'AC' : 301, 'NE' :1783, 'GS' : 751}\n",
    "jmax = {'AC' : 657, 'NE' :2239, 'GS' : 1155}\n"
   ]
  },
  {
   "cell_type": "code",
   "execution_count": 8,
   "metadata": {
    "scrolled": false
   },
   "outputs": [
    {
     "name": "stdout",
     "output_type": "stream",
     "text": [
      "20120901\n",
      "/store/molines/NATL60/NATL60-CJM165-S/1d/2012/NATL60-CJM165_y2012m09d01.1d_gridTsurf.nc\n"
     ]
    },
    {
     "name": "stderr",
     "output_type": "stream",
     "text": [
      "distributed.nanny - WARNING - Worker process 28959 was killed by signal 6\n",
      "distributed.nanny - WARNING - Restarting worker\n"
     ]
    },
    {
     "name": "stdout",
     "output_type": "stream",
     "text": [
      "20120902\n",
      "/store/molines/NATL60/NATL60-CJM165-S/1d/2012/NATL60-CJM165_y2012m09d02.1d_gridTsurf.nc\n"
     ]
    },
    {
     "name": "stderr",
     "output_type": "stream",
     "text": [
      "distributed.nanny - WARNING - Worker process 28963 was killed by signal 6\n",
      "distributed.nanny - WARNING - Restarting worker\n",
      "distributed.nanny - WARNING - Worker process 28960 was killed by signal 6\n",
      "distributed.nanny - WARNING - Restarting worker\n",
      "distributed.client - WARNING - Couldn't gather 1 keys, rescheduling {\"('absolute-1e2e178d594c644e4c4450f398d21b22', 0, 3, 1)\": ()}\n"
     ]
    },
    {
     "name": "stdout",
     "output_type": "stream",
     "text": [
      "20120903\n",
      "/store/molines/NATL60/NATL60-CJM165-S/1d/2012/NATL60-CJM165_y2012m09d03.1d_gridTsurf.nc\n"
     ]
    },
    {
     "name": "stderr",
     "output_type": "stream",
     "text": [
      "distributed.nanny - WARNING - Worker process 30776 was killed by signal 6\n",
      "distributed.nanny - WARNING - Restarting worker\n",
      "distributed.nanny - WARNING - Worker process 28952 was killed by signal 6\n",
      "distributed.nanny - WARNING - Restarting worker\n"
     ]
    },
    {
     "name": "stdout",
     "output_type": "stream",
     "text": [
      "20120904\n",
      "/store/molines/NATL60/NATL60-CJM165-S/1d/2012/NATL60-CJM165_y2012m09d04.1d_gridTsurf.nc\n"
     ]
    },
    {
     "name": "stderr",
     "output_type": "stream",
     "text": [
      "distributed.nanny - WARNING - Worker process 30956 was killed by signal 6\n",
      "distributed.nanny - WARNING - Worker process 30656 was killed by signal 6\n",
      "distributed.nanny - WARNING - Restarting worker\n",
      "distributed.nanny - WARNING - Restarting worker\n"
     ]
    },
    {
     "name": "stdout",
     "output_type": "stream",
     "text": [
      "20120905\n",
      "/store/molines/NATL60/NATL60-CJM165-S/1d/2012/NATL60-CJM165_y2012m09d05.1d_gridTsurf.nc\n"
     ]
    },
    {
     "name": "stderr",
     "output_type": "stream",
     "text": [
      "distributed.nanny - WARNING - Worker process 31185 was killed by signal 6\n",
      "distributed.nanny - WARNING - Restarting worker\n",
      "distributed.nanny - WARNING - Worker process 31182 was killed by signal 6\n",
      "distributed.nanny - WARNING - Restarting worker\n",
      "distributed.nanny - WARNING - Worker process 30952 was killed by signal 6\n",
      "distributed.nanny - WARNING - Restarting worker\n"
     ]
    },
    {
     "name": "stdout",
     "output_type": "stream",
     "text": [
      "20120906\n",
      "/store/molines/NATL60/NATL60-CJM165-S/1d/2012/NATL60-CJM165_y2012m09d06.1d_gridTsurf.nc\n"
     ]
    },
    {
     "name": "stderr",
     "output_type": "stream",
     "text": [
      "distributed.nanny - WARNING - Worker process 31363 was killed by signal 6\n",
      "distributed.nanny - WARNING - Restarting worker\n",
      "distributed.nanny - WARNING - Worker process 31381 was killed by signal 6\n",
      "distributed.nanny - WARNING - Restarting worker\n",
      "distributed.nanny - WARNING - Worker process 31406 was killed by signal 6\n",
      "distributed.nanny - WARNING - Restarting worker\n"
     ]
    },
    {
     "name": "stdout",
     "output_type": "stream",
     "text": [
      "20120907\n",
      "/store/molines/NATL60/NATL60-CJM165-S/1d/2012/NATL60-CJM165_y2012m09d07.1d_gridTsurf.nc\n"
     ]
    },
    {
     "name": "stderr",
     "output_type": "stream",
     "text": [
      "distributed.nanny - WARNING - Worker process 31762 was killed by signal 6\n",
      "distributed.nanny - WARNING - Restarting worker\n",
      "distributed.nanny - WARNING - Worker process 31670 was killed by signal 6\n",
      "distributed.nanny - WARNING - Restarting worker\n",
      "distributed.nanny - WARNING - Worker process 31605 was killed by signal 6\n",
      "distributed.nanny - WARNING - Restarting worker\n",
      "distributed.nanny - WARNING - Worker process 31904 was killed by signal 6\n",
      "distributed.nanny - WARNING - Restarting worker\n",
      "distributed.client - WARNING - Couldn't gather 1 keys, rescheduling {\"('absolute-15d0ef9984731f24b0765540385c9396', 0, 2, 3)\": ()}\n"
     ]
    },
    {
     "name": "stdout",
     "output_type": "stream",
     "text": [
      "20120908\n",
      "/store/molines/NATL60/NATL60-CJM165-S/1d/2012/NATL60-CJM165_y2012m09d08.1d_gridTsurf.nc\n"
     ]
    },
    {
     "name": "stderr",
     "output_type": "stream",
     "text": [
      "distributed.nanny - WARNING - Worker process 32072 was killed by signal 6\n",
      "distributed.nanny - WARNING - Worker process 31937 was killed by signal 6\n",
      "distributed.nanny - WARNING - Restarting worker\n",
      "distributed.nanny - WARNING - Restarting worker\n",
      "distributed.nanny - WARNING - Worker process 31918 was killed by signal 6\n",
      "distributed.nanny - WARNING - Restarting worker\n"
     ]
    },
    {
     "name": "stdout",
     "output_type": "stream",
     "text": [
      "20120909\n",
      "/store/molines/NATL60/NATL60-CJM165-S/1d/2012/NATL60-CJM165_y2012m09d09.1d_gridTsurf.nc\n"
     ]
    },
    {
     "name": "stderr",
     "output_type": "stream",
     "text": [
      "distributed.nanny - WARNING - Worker process 32533 was killed by signal 6\n",
      "distributed.nanny - WARNING - Restarting worker\n",
      "distributed.nanny - WARNING - Worker process 32568 was killed by signal 6\n",
      "distributed.nanny - WARNING - Restarting worker\n",
      "distributed.nanny - WARNING - Worker process 32537 was killed by signal 6\n",
      "distributed.nanny - WARNING - Restarting worker\n"
     ]
    },
    {
     "name": "stdout",
     "output_type": "stream",
     "text": [
      "20120910\n",
      "/store/molines/NATL60/NATL60-CJM165-S/1d/2012/NATL60-CJM165_y2012m09d10.1d_gridTsurf.nc\n",
      "20120911\n",
      "/store/molines/NATL60/NATL60-CJM165-S/1d/2012/NATL60-CJM165_y2012m09d11.1d_gridTsurf.nc\n",
      "20120912\n",
      "/store/molines/NATL60/NATL60-CJM165-S/1d/2012/NATL60-CJM165_y2012m09d12.1d_gridTsurf.nc\n",
      "20120913\n",
      "/store/molines/NATL60/NATL60-CJM165-S/1d/2012/NATL60-CJM165_y2012m09d13.1d_gridTsurf.nc\n",
      "20120914\n",
      "/store/molines/NATL60/NATL60-CJM165-S/1d/2012/NATL60-CJM165_y2012m09d14.1d_gridTsurf.nc\n",
      "20120915\n",
      "/store/molines/NATL60/NATL60-CJM165-S/1d/2012/NATL60-CJM165_y2012m09d15.1d_gridTsurf.nc\n",
      "20120916\n",
      "/store/molines/NATL60/NATL60-CJM165-S/1d/2012/NATL60-CJM165_y2012m09d16.1d_gridTsurf.nc\n",
      "20120917\n",
      "/store/molines/NATL60/NATL60-CJM165-S/1d/2012/NATL60-CJM165_y2012m09d17.1d_gridTsurf.nc\n",
      "20120918\n",
      "/store/molines/NATL60/NATL60-CJM165-S/1d/2012/NATL60-CJM165_y2012m09d18.1d_gridTsurf.nc\n",
      "20120919\n",
      "/store/molines/NATL60/NATL60-CJM165-S/1d/2012/NATL60-CJM165_y2012m09d19.1d_gridTsurf.nc\n",
      "20120920\n",
      "/store/molines/NATL60/NATL60-CJM165-S/1d/2012/NATL60-CJM165_y2012m09d20.1d_gridTsurf.nc\n",
      "20120921\n",
      "/store/molines/NATL60/NATL60-CJM165-S/1d/2012/NATL60-CJM165_y2012m09d21.1d_gridTsurf.nc\n",
      "20120922\n",
      "/store/molines/NATL60/NATL60-CJM165-S/1d/2012/NATL60-CJM165_y2012m09d22.1d_gridTsurf.nc\n",
      "20120923\n",
      "/store/molines/NATL60/NATL60-CJM165-S/1d/2012/NATL60-CJM165_y2012m09d23.1d_gridTsurf.nc\n",
      "20120924\n",
      "/store/molines/NATL60/NATL60-CJM165-S/1d/2012/NATL60-CJM165_y2012m09d24.1d_gridTsurf.nc\n",
      "20120925\n",
      "/store/molines/NATL60/NATL60-CJM165-S/1d/2012/NATL60-CJM165_y2012m09d25.1d_gridTsurf.nc\n",
      "20120926\n",
      "/store/molines/NATL60/NATL60-CJM165-S/1d/2012/NATL60-CJM165_y2012m09d26.1d_gridTsurf.nc\n",
      "20120927\n",
      "/store/molines/NATL60/NATL60-CJM165-S/1d/2012/NATL60-CJM165_y2012m09d27.1d_gridTsurf.nc\n",
      "20120928\n",
      "/store/molines/NATL60/NATL60-CJM165-S/1d/2012/NATL60-CJM165_y2012m09d28.1d_gridTsurf.nc\n",
      "20120929\n",
      "/store/molines/NATL60/NATL60-CJM165-S/1d/2012/NATL60-CJM165_y2012m09d29.1d_gridTsurf.nc\n",
      "20120930\n",
      "/store/molines/NATL60/NATL60-CJM165-S/1d/2012/NATL60-CJM165_y2012m09d30.1d_gridTsurf.nc\n"
     ]
    }
   ],
   "source": [
    "#for month in ['march', 'september']:\n",
    "for month in ['september']:\n",
    "\n",
    "    if month == 'march':\n",
    "        Date=['20130301','20130302','20130303','20130304','20130305','20130306','20130307','20130308','20130309','20130310','20130311','20130312','20130313','20130314','20130315','20130316','20130317','20130318','20130319','20130320','20130321','20130322','20130323','20130324','20130325','20130326','20130327','20130328','20130329','20130330']\n",
    "    if month == 'september':\n",
    "        Date=['20120901','20120902','20120903','20120904','20120905','20120906','20120907','20120908','20120909','20120910','20120911','20120912','20120913','20120914','20120915','20120916','20120917','20120918','20120919','20120920','20120921','20120922','20120923','20120924','20120925','20120926','20120927','20120928','20120929','20120930']\n",
    "\n",
    "    for date in Date:\n",
    "        print(date)\n",
    "        \n",
    "        year=date[0:4]\n",
    "        month=date[4:6]\n",
    "        day=date[6:]\n",
    "\n",
    "        filename = sorted(glob.glob(data_dir+str(year)+'/NATL60-CJM165_y'+str(year)+'m'+str(month)+'d'+str(day)+'.1d_gridTsurf.nc'))\n",
    "        file=filename[0]\n",
    "        print(file)\n",
    "\n",
    "        ds=xr.open_dataset(file,chunks={'x':1000,'y':1000,'time_counter':1})\n",
    "        dataT=ds['sosstsst']\n",
    "        dataS=ds['sosaline']\n",
    "        dataT_dx=dx_var(dataT,e1)\n",
    "        dataS_dx=dx_var(dataS,e1)\n",
    "        dataT_dy=dy_var(dataT,e1)\n",
    "        dataS_dy=dy_var(dataS,e1)\n",
    "        alpha,beta=alpha_beta(dataT,dataS)\n",
    "        R=alpha*(dataT_dx + 1j * dataT_dy)/(beta*(dataS_dx + 1j * dataS_dy))\n",
    "        magR=np.abs(R)\n",
    "        magR_ma=ma.masked_invalid(magR)\n",
    "        Tu=np.real(np.arctan(R))\n",
    "\n",
    "        for box in ['NE','GS']:\n",
    "#        for box in ['AC']:\n",
    "\n",
    "            filename='/scratch/cnt0024/hmg2840/albert7a/NATL60/NATL60-CJM165-S/1d/turner-angle/NATL60-CJM165_Tu_complex_'+str(date)+'.1d_'+str(box)+'.nc'\n",
    "            if not os.path.exists(filename):\n",
    "                \n",
    "                print('compute Tu for box '+str(box))\n",
    "                magR_box=magR[:,jmin[box]:jmax[box],imin[box]:imax[box]].stack(z=('x', 'y','time_counter'))\n",
    "                Tu_box=Tu[:,jmin[box]:jmax[box],imin[box]:imax[box]].stack(z=('x', 'y','time_counter'))\n",
    "        \n",
    "                magR_box_nonan=magR_box[~np.isnan(magR_box)]\n",
    "                Tu_box_nonan=Tu_box[~np.isnan(magR_box)]\n",
    "                magR_box_nonan_noinf=magR_box_nonan[~np.isinf(magR_box_nonan)]\n",
    "                Tu_box_nonan_noinf=Tu_box_nonan[~np.isinf(magR_box_nonan)]\n",
    "                magR_box_nonan_noinf=magR_box_nonan_noinf.reset_index('z')\n",
    "                Tu_box_nonan_noinf=Tu_box_nonan_noinf.reset_index('z')\n",
    "\n",
    "                print('write '+filename)\n",
    "                dataset_mag=Tu_box_nonan_noinf.to_dataset(name='Tu')\n",
    "                dataset_mag.attrs['global_attribute']= 'Stack of turner angle of data for day '+str(date)\n",
    "                dataset_mag.to_netcdf(path=filename,mode='w')"
   ]
  },
  {
   "cell_type": "code",
   "execution_count": null,
   "metadata": {},
   "outputs": [],
   "source": []
  }
 ],
 "metadata": {
  "kernelspec": {
   "display_name": "Python 2",
   "language": "python",
   "name": "python2"
  },
  "language_info": {
   "codemirror_mode": {
    "name": "ipython",
    "version": 2
   },
   "file_extension": ".py",
   "mimetype": "text/x-python",
   "name": "python",
   "nbconvert_exporter": "python",
   "pygments_lexer": "ipython2",
   "version": "2.7.16"
  }
 },
 "nbformat": 4,
 "nbformat_minor": 2
}
