{
 "cells": [
  {
   "cell_type": "code",
   "execution_count": 1,
   "metadata": {},
   "outputs": [
    {
     "name": "stderr",
     "output_type": "stream",
     "text": [
      "/scratch/cnt0024/hmg2840/albert7a/anaconda3/lib/python3.7/site-packages/distributed/dashboard/core.py:74: UserWarning: \n",
      "Failed to start diagnostics server on port 8787. [Errno 13] Permission denied\n",
      "  warnings.warn(\"\\n\" + msg)\n"
     ]
    }
   ],
   "source": [
    "import dask\n",
    "import dask.threaded\n",
    "import dask.multiprocessing\n",
    "from dask.distributed import Client\n",
    "\n",
    "c = Client()\n"
   ]
  },
  {
   "cell_type": "code",
   "execution_count": 2,
   "metadata": {},
   "outputs": [
    {
     "data": {
      "text/html": [
       "<table style=\"border: 2px solid white;\">\n",
       "<tr>\n",
       "<td style=\"vertical-align: top; border: 0px solid white\">\n",
       "<h3>Client</h3>\n",
       "<ul>\n",
       "  <li><b>Scheduler: </b>tcp://127.0.0.1:40392\n",
       "  <li><b>Dashboard: </b><a href='http://127.0.0.1:42398/status' target='_blank'>http://127.0.0.1:42398/status</a>\n",
       "</ul>\n",
       "</td>\n",
       "<td style=\"vertical-align: top; border: 0px solid white\">\n",
       "<h3>Cluster</h3>\n",
       "<ul>\n",
       "  <li><b>Workers: </b>8</li>\n",
       "  <li><b>Cores: </b>48</li>\n",
       "  <li><b>Memory: </b>134.91 GB</li>\n",
       "</ul>\n",
       "</td>\n",
       "</tr>\n",
       "</table>"
      ],
      "text/plain": [
       "<Client: scheduler='tcp://127.0.0.1:40392' processes=8 cores=48>"
      ]
     },
     "execution_count": 2,
     "metadata": {},
     "output_type": "execute_result"
    }
   ],
   "source": [
    "c"
   ]
  },
  {
   "cell_type": "code",
   "execution_count": 3,
   "metadata": {},
   "outputs": [],
   "source": [
    "import xarray as xr \n",
    "import dask \n",
    "import numpy as np \n",
    "import os \n",
    "import time \n",
    "import glob\n",
    "from datetime import date\n",
    "import numpy.ma as ma\n",
    "\n",
    "import matplotlib.pyplot as plt\n",
    "\n",
    "today=date.today()\n",
    "\n",
    "import seaborn as sns\n",
    "sns.set(color_codes=True)\n",
    "\n",
    "#https://pmall.univ-grenoble-alpes.fr/docs/auto_examples_code/windrose/windrose-exemple.html"
   ]
  },
  {
   "cell_type": "code",
   "execution_count": 4,
   "metadata": {},
   "outputs": [],
   "source": [
    "Date_sept=['20120901','20120902','20120903','20120904','20120905','20120906','20120907','20120908','20120909','20120910','20120911','20120912','20120913','20120914','20120915','20120916','20120917','20120918','20120919','20120920','20120921','20120922','20120923','20120924','20120925','20120926','20120927','20120928','20120929','20120930']\n",
    "Date_march=['20130301','20130302','20130303','20130304','20130305','20130306','20130307','20130308','20130309','20130310','20130311','20130312','20130313','20130314','20130315','20130316','20130317','20130318','20130319','20130320','20130321','20130322','20130323','20130324','20130325','20130326','20130327','20130328','20130329','20130330']\n",
    "Date_month={'march':Date_march,'sept':Date_sept}"
   ]
  },
  {
   "cell_type": "code",
   "execution_count": 7,
   "metadata": {},
   "outputs": [],
   "source": [
    "def get_buoy_spice(box,month):\n",
    "    print('get buoy and spice for box '+str(box)+' and month '+str(month))\n",
    "    Date=Date_month[month]\n",
    "    datasets_buoy = []\n",
    "    datasets_spice = []\n",
    "    for date in Date:\n",
    "        zbuoy_file = '/scratch/cnt0024/hmg2840/albert7a/NATL60/NATL60-CJM165-S/1d/turner-angle/NATL60-CJM165_grad-buoy_'+str(date)+'.1d_'+str(box)+'.nc'\n",
    "        zspice_file='/scratch/cnt0024/hmg2840/albert7a/NATL60/NATL60-CJM165-S/1d/turner-angle/NATL60-CJM165_grad-spice_'+str(date)+'.1d_'+str(box)+'.nc'\n",
    "        zdsbuoy=xr.open_dataset(zbuoy_file)\n",
    "        zdsspice=xr.open_dataset(zspice_file)\n",
    "        datasets_buoy.append(zdsbuoy)\n",
    "        datasets_spice.append(zdsspice)\n",
    "    all_buoy=xr.concat(datasets_buoy,dim='z')\n",
    "    all_spice=xr.concat(datasets_spice,dim='z')\n",
    "    buoy=all_buoy['buoy']\n",
    "    spice=all_spice['spice']\n",
    "    return buoy,spice\n",
    "   \n",
    "    \n",
    "    "
   ]
  },
  {
   "cell_type": "code",
   "execution_count": 8,
   "metadata": {},
   "outputs": [
    {
     "name": "stdout",
     "output_type": "stream",
     "text": [
      "get buoy and spice for box AC and month sept\n",
      "get buoy and spice for box AC and month march\n"
     ]
    }
   ],
   "source": [
    "buoy_sept_AC,spice_sept_AC=get_buoy_spice('AC','sept')\n",
    "buoy_march_AC,spice_march_AC=get_buoy_spice('AC','march')\n",
    "#buoy_sept_GS,spice_sept_GS=get_buoy_spice('GS','sept')\n",
    "#buoy_march_GS,spice_march_GS=get_buoy_spice('GS','march')\n",
    "#buoy_sept_NE,spice_sept_NE=get_buoy_spice('NE','sept')\n",
    "#buoy_march_NE,spice_march_NE=get_buoy_spice('NE','march')\n"
   ]
  },
  {
   "cell_type": "code",
   "execution_count": 15,
   "metadata": {},
   "outputs": [
    {
     "data": {
      "image/png": "[encoded data removed]",
      "text/plain": [
       "<Figure size 1440x1080 with 2 Axes>"
      ]
     },
     "metadata": {
      "needs_background": "light"
     },
     "output_type": "display_data"
    }
   ],
   "source": [
    "fig = plt.figure(figsize=(20.0, 15.0))\n",
    "\n",
    "axes1 = fig.add_subplot(3, 2, 1)\n",
    "weights = np.ones_like(buoy_sept_AC)/float(len(buoy_sept_AC))\n",
    "axes1.hist(buoy_sept_AC,30, alpha = 0.5,range=(0,2e-8),color='r', weights=weights, label='sept')\n",
    "weights = np.ones_like(buoy_march_AC)/float(len(buoy_march_AC))\n",
    "axes1.hist(np.abs(buoy_march_AC),30, alpha = 0.5,range=(0,2e-8),color='b', weights=weights, label='march')\n",
    "\n",
    "plt.legend()\n",
    "plt.title('gradient buoyancy in AC box')\n",
    "\n",
    "axes2 = fig.add_subplot(3, 2, 2)\n",
    "weights = np.ones_like(spice_sept_AC)/float(len(spice_sept_AC))\n",
    "axes2.hist(spice_sept_AC,30, alpha = 0.5,range=(0,0.5e-7),color='r', weights=weights, label='sept')\n",
    "weights = np.ones_like(spice_march_AC)/float(len(spice_march_AC))\n",
    "axes2.hist(np.abs(spice_march_AC),30, alpha = 0.5,range=(0,0.5e-7),color='b', weights=weights, label='march')\n",
    "\n",
    "plt.legend()\n",
    "plt.title('gradient spicyness in AC box')\n",
    "\n",
    "plt.savefig('hist_grad-buoy-spice_AC.png')\n"
   ]
  },
  {
   "cell_type": "code",
   "execution_count": null,
   "metadata": {},
   "outputs": [],
   "source": [
    "axes3 = fig.add_subplot(3, 2, 3)\n",
    "weights = np.ones_like(buoy_sept_GS)/float(len(buoy_sept_GS))\n",
    "axes3.hist(buoy_sept_GS,30, alpha = 0.5,range=(0,10),color='r', weights=weights, label='sept')\n",
    "weights = np.ones_like(buoy_march_GS)/float(len(buoy_march_GS))\n",
    "axes3.hist(np.abs(buoy_march_GS),30, alpha = 0.5,range=(0,10),color='b', weights=weights, label='march')\n",
    "axes3.axvline(1, color='k', linestyle='dashed', linewidth=1,label='ratio=1')\n",
    "\n",
    "plt.legend()\n",
    "plt.title('quasi buoyancy in GS box')\n",
    "\n",
    "axes4 = fig.add_subplot(3, 2, 4)\n",
    "weights = np.ones_like(spice_sept_GS)/float(len(spice_sept_GS))\n",
    "axes4.hist(spice_sept_GS,30, alpha = 0.5,range=(0,2),color='r', weights=weights, label='sept')\n",
    "weights = np.ones_like(spice_march_GS)/float(len(spice_march_GS))\n",
    "axes4.hist(np.abs(spice_march_GS),30, alpha = 0.5,range=(0,2),color='b', weights=weights, label='march')\n",
    "axes4.axvline(np.pi/2, color='k', linestyle='dashed', linewidth=1, label=r'angle =$\\pi$/2')\n",
    "\n",
    "plt.legend()\n",
    "plt.title('quasi spicyness in GS box')\n",
    "\n",
    "axes5 = fig.add_subplot(3, 2, 5)\n",
    "weights = np.ones_like(buoy_sept_NE)/float(len(buoy_sept_NE))\n",
    "axes5.hist(buoy_sept_NE,30, alpha = 0.5,range=(0,10),color='r', weights=weights, label='sept')\n",
    "weights = np.ones_like(buoy_march_NE)/float(len(buoy_march_NE))\n",
    "axes5.hist(np.abs(buoy_march_NE),30, alpha = 0.5,range=(0,10),color='b', weights=weights, label='march')\n",
    "axes5.axvline(1, color='k', linestyle='dashed', linewidth=1,label='ratio=1')\n",
    "\n",
    "plt.legend()\n",
    "plt.title('quasi buoyancy in NE box')\n",
    "\n",
    "axes6 = fig.add_subplot(3, 2, 6)\n",
    "weights = np.ones_like(spice_sept_NE)/float(len(spice_sept_NE))\n",
    "axes6.hist(spice_sept_NE,30, alpha = 0.5,range=(0,2),color='r', weights=weights, label='sept')\n",
    "weights = np.ones_like(spice_march_NE)/float(len(spice_march_NE))\n",
    "axes6.hist(np.abs(spice_march_NE),30, alpha = 0.5,range=(0,2),color='b', weights=weights, label='march')\n",
    "axes6.axvline(np.pi/2, color='k', linestyle='dashed', linewidth=1, label=r'angle =$\\pi$/2')\n",
    "\n",
    "plt.legend()\n",
    "plt.title('quasi spicyness in NE box')\n"
   ]
  }
 ],
 "metadata": {
  "kernelspec": {
   "display_name": "Python 3",
   "language": "python",
   "name": "python3"
  },
  "language_info": {
   "codemirror_mode": {
    "name": "ipython",
    "version": 3
   },
   "file_extension": ".py",
   "mimetype": "text/x-python",
   "name": "python",
   "nbconvert_exporter": "python",
   "pygments_lexer": "ipython3",
   "version": "3.7.3"
  }
 },
 "nbformat": 4,
 "nbformat_minor": 2
}
