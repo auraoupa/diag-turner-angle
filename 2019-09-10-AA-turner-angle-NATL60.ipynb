{
 "cells": [
  {
   "cell_type": "code",
   "execution_count": 1,
   "metadata": {},
   "outputs": [
    {
     "name": "stderr",
     "output_type": "stream",
     "text": [
      "/home/alberta/anaconda2/envs/pangeo-cloud/lib/python3.6/site-packages/dask/config.py:168: YAMLLoadWarning: calling yaml.load() without Loader=... is deprecated, as the default Loader is unsafe. Please read https://msg.pyyaml.org/load for full details.\n",
      "  data = yaml.load(f.read()) or {}\n"
     ]
    }
   ],
   "source": [
    "import dask\n",
    "import dask.threaded\n",
    "import dask.multiprocessing\n",
    "from dask.distributed import Client\n",
    "\n",
    "c = Client()\n"
   ]
  },
  {
   "cell_type": "code",
   "execution_count": 2,
   "metadata": {},
   "outputs": [
    {
     "data": {
      "text/html": [
       "<table style=\"border: 2px solid white;\">\n",
       "<tr>\n",
       "<td style=\"vertical-align: top; border: 0px solid white\">\n",
       "<h3>Client</h3>\n",
       "<ul>\n",
       "  <li><b>Scheduler: </b>tcp://127.0.0.1:42257\n",
       "  <li><b>Dashboard: </b><a href='http://127.0.0.1:8787/status' target='_blank'>http://127.0.0.1:8787/status</a>\n",
       "</ul>\n",
       "</td>\n",
       "<td style=\"vertical-align: top; border: 0px solid white\">\n",
       "<h3>Cluster</h3>\n",
       "<ul>\n",
       "  <li><b>Workers: </b>4</li>\n",
       "  <li><b>Cores: </b>8</li>\n",
       "  <li><b>Memory: </b>33.66 GB</li>\n",
       "</ul>\n",
       "</td>\n",
       "</tr>\n",
       "</table>"
      ],
      "text/plain": [
       "<Client: scheduler='tcp://127.0.0.1:42257' processes=4 cores=8>"
      ]
     },
     "execution_count": 2,
     "metadata": {},
     "output_type": "execute_result"
    }
   ],
   "source": [
    "c"
   ]
  },
  {
   "cell_type": "code",
   "execution_count": 3,
   "metadata": {},
   "outputs": [],
   "source": [
    "import xarray as xr \n",
    "import dask \n",
    "import numpy as np \n",
    "import os \n",
    "import time \n",
    "import glob\n",
    "from datetime import date\n",
    "import numpy.ma as ma\n",
    "\n",
    "today=date.today()\n",
    "\n"
   ]
  },
  {
   "cell_type": "code",
   "execution_count": 4,
   "metadata": {},
   "outputs": [],
   "source": [
    "data_dir = '/store/molines/NATL60/NATL60-CJM165-S/1h/'\n",
    "gridfile='/store/molines/NATL60/NATL60-I/NATL60_v4.1_cdf_mesh_hgr.nc'\n",
    "dsgrid=xr.open_dataset(gridfile,chunks={'x':1000,'y':1000})"
   ]
  },
  {
   "cell_type": "code",
   "execution_count": null,
   "metadata": {},
   "outputs": [],
   "source": [
    "def dx_var(data,e1):\n",
    "    dx_var = (data.shift(x=-1) - data)/e1\n",
    "    return dx_var\n",
    "def dy_var(data,e2):\n",
    "    dy_var = (data.shift(x=-1) - data)/e2\n",
    "    return dy_var\n",
    "    "
   ]
  },
  {
   "cell_type": "code",
   "execution_count": null,
   "metadata": {},
   "outputs": [],
   "source": [
    "filetyps = {'votemper' : 'gridT', 'vosaline' : 'gridS'}\n",
    "filedeps = {'votemper' : 'deptht','vosaline' : 'deptht'}\n",
    "filee1 = {'votemper' : 'e1t','vosaline' : 'e1t'}\n",
    "\n",
    "date='20121212' \n",
    "year=date[0:4]\n",
    "month=date[4:6]\n",
    "day=date[6:]\n",
    "filename = sorted(glob.glob(data_dir+'/'+str(year)+'/NATL60-CJM165_y'+str(year)+'m'+str(month)+'d'+str(day)+'.1h_gridT.nc'))\n",
    "file=filename[0]\n",
    "ds=xr.open_dataset(file,chunks={'x':1000,'y':1000,'time_counter':1})\n",
    "dataT=ds['sosstsst']\n",
    "dataS=ds['sosaline']\n",
    "e1=dsgrid['e1t'][0]\n",
    "e2=dsgrid['e2t'][0]\n",
    "dataT_dx=dx_var(dataT,e1)\n",
    "dataS_dx=dx_var(dataS,e1)\n",
    "dataT_dy=dy_var(dataT,e1)\n",
    "dataS_dy=dy_var(dataS,e1)\n",
    "R=(dataT_dx + 1j * dataT_dy)/(dataS_dx + 1j * dataS_dy)\n",
    "magR=np.abs(R)\n",
    "magR_ma=ma.masked_invalid(magR)\n",
    "Tu=np.arctan(magR)"
   ]
  },
  {
   "cell_type": "code",
   "execution_count": null,
   "metadata": {},
   "outputs": [],
   "source": [
    "!pip install windrose \n"
   ]
  },
  {
   "cell_type": "code",
   "execution_count": null,
   "metadata": {},
   "outputs": [],
   "source": [
    "from windrose import WindroseAxes\n",
    "\n",
    "fig = plt.figure(figsize=(10, 5))\n",
    "\n",
    "left_rectangle = [0, 0.1, 0.4, 0.75]     # [left, bottom, width, height] as a fraction of total figure size\n",
    "ax1 = fig.add_axes(left_rectangle)    # creates the axes of specified dimensions\n",
    "\n",
    "mto[wsp].hist(bins=100)\n",
    "ax1.set_xscale(\"log\")\n",
    "ax1.set_xlabel(\"wind speed (m/s)\")\n",
    "\n",
    "right_rectangle = [0.5, 0.1, 0.5, 0.75]     # [left, bottom, width, height]\n",
    "ax = WindroseAxes(fig, right_rectangle)\n",
    "fig.add_axes(ax)\n",
    "ax.bar(mto[wdir], mto[wsp], normed=True, opening=0.8, edgecolor='white', bins=np.logspace(-1,1, 10))\n",
    "ax.set_title(\"annual\", position=(0.5, 1.1))\n",
    "\n",
    "ax.set_legend()\n",
    "ax.legend(title=\"wind speed (m/s)\", loc=(1.1, 0))"
   ]
  },
  {
   "cell_type": "code",
   "execution_count": null,
   "metadata": {},
   "outputs": [],
   "source": [
    "def compute_turner_angle(date):\n",
    "    year=date[0:4]\n",
    "    month=date[4:6]\n",
    "    day=date[6:]\n",
    "    filename = sorted(glob.glob(data_dir+'/'+str(year)+'/NATL60-CJM165_y'+str(year)+'m'+str(month)+'d'+str(day)+'.1h_gridT.nc'))\n",
    "    file=filename[0]\n",
    "    ds=xr.open_dataset(file,chunks={'x':1000,'y':1000,'time_counter':1})\n",
    "    dataT=ds['sosstsst']\n",
    "    dataS=ds['sosaline']\n",
    "    e1=dsgrid['e1t'][0]\n",
    "    e2=dsgrid['e2t'][0]\n",
    "    dataT_dx=dx_var(dataT,e1)\n",
    "    dataS_dx=dx_var(dataS,e1)\n",
    "    dataT_dy=dy_var(dataT,e1)\n",
    "    dataS_dy=dy_var(dataS,e1)\n",
    "    R=(dataT_dx + 1j * dataT_dy)/(dataS_dx + 1j * dataS_dy)\n",
    "    magR=np.abs(R)\n",
    "    magR_ma=ma.masked_invalid(magR)\n",
    "    Tu=np/arctan(R)"
   ]
  }
 ],
 "metadata": {
  "kernelspec": {
   "display_name": "pangeo_cloud",
   "language": "python",
   "name": "pangeo-cloud"
  },
  "language_info": {
   "codemirror_mode": {
    "name": "ipython",
    "version": 3
   },
   "file_extension": ".py",
   "mimetype": "text/x-python",
   "name": "python",
   "nbconvert_exporter": "python",
   "pygments_lexer": "ipython3",
   "version": "3.6.7"
  }
 },
 "nbformat": 4,
 "nbformat_minor": 2
}
