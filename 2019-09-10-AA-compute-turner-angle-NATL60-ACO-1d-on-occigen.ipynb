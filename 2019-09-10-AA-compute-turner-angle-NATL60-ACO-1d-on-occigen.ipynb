{
 "cells": [
  {
   "cell_type": "code",
   "execution_count": 1,
   "metadata": {},
   "outputs": [
    {
     "name": "stderr",
     "output_type": "stream",
     "text": [
      "/scratch/cnt0024/hmg2840/albert7a/anaconda3/lib/python3.7/site-packages/distributed/dashboard/core.py:74: UserWarning: \n",
      "Failed to start diagnostics server on port 8787. [Errno 13] Permission denied\n",
      "  warnings.warn(\"\\n\" + msg)\n"
     ]
    }
   ],
   "source": [
    "import dask\n",
    "import dask.threaded\n",
    "import dask.multiprocessing\n",
    "from dask.distributed import Client\n",
    "\n",
    "c = Client()\n"
   ]
  },
  {
   "cell_type": "code",
   "execution_count": 2,
   "metadata": {},
   "outputs": [
    {
     "data": {
      "text/html": [
       "<table style=\"border: 2px solid white;\">\n",
       "<tr>\n",
       "<td style=\"vertical-align: top; border: 0px solid white\">\n",
       "<h3>Client</h3>\n",
       "<ul>\n",
       "  <li><b>Scheduler: </b>tcp://127.0.0.1:33526\n",
       "  <li><b>Dashboard: </b><a href='http://127.0.0.1:38584/status' target='_blank'>http://127.0.0.1:38584/status</a>\n",
       "</ul>\n",
       "</td>\n",
       "<td style=\"vertical-align: top; border: 0px solid white\">\n",
       "<h3>Cluster</h3>\n",
       "<ul>\n",
       "  <li><b>Workers: </b>8</li>\n",
       "  <li><b>Cores: </b>48</li>\n",
       "  <li><b>Memory: </b>134.91 GB</li>\n",
       "</ul>\n",
       "</td>\n",
       "</tr>\n",
       "</table>"
      ],
      "text/plain": [
       "<Client: scheduler='tcp://127.0.0.1:33526' processes=8 cores=48>"
      ]
     },
     "execution_count": 2,
     "metadata": {},
     "output_type": "execute_result"
    }
   ],
   "source": [
    "c"
   ]
  },
  {
   "cell_type": "code",
   "execution_count": 3,
   "metadata": {},
   "outputs": [
    {
     "name": "stderr",
     "output_type": "stream",
     "text": [
      "/scratch/cnt0024/hmg2840/albert7a/anaconda3/lib/python3.7/site-packages/windrose/windrose.py:29: MatplotlibDeprecationWarning: \n",
      "The Appender class was deprecated in Matplotlib 3.1 and will be removed in 3.3.\n",
      "  addendum = docstring.Appender(msg, \"\\n\\n\")\n",
      "/scratch/cnt0024/hmg2840/albert7a/anaconda3/lib/python3.7/site-packages/windrose/windrose.py:30: MatplotlibDeprecationWarning: \n",
      "The copy_dedent function was deprecated in Matplotlib 3.1 and will be removed in 3.3. Use docstring.copy() and cbook.dedent() instead.\n",
      "  return lambda func: addendum(docstring.copy_dedent(base)(func))\n",
      "/scratch/cnt0024/hmg2840/albert7a/anaconda3/lib/python3.7/site-packages/windrose/windrose.py:30: MatplotlibDeprecationWarning: \n",
      "The dedent function was deprecated in Matplotlib 3.1 and will be removed in 3.3. Use inspect.getdoc() instead.\n",
      "  return lambda func: addendum(docstring.copy_dedent(base)(func))\n",
      "/scratch/cnt0024/hmg2840/albert7a/anaconda3/lib/python3.7/site-packages/windrose/windrose.py:30: MatplotlibDeprecationWarning: \n",
      "The dedent function was deprecated in Matplotlib 3.1 and will be removed in 3.3. Use inspect.cleandoc instead.\n",
      "  return lambda func: addendum(docstring.copy_dedent(base)(func))\n"
     ]
    }
   ],
   "source": [
    "import xarray as xr \n",
    "import dask \n",
    "import numpy as np \n",
    "import os \n",
    "import time \n",
    "import glob\n",
    "from datetime import date\n",
    "import numpy.ma as ma\n",
    "\n",
    "today=date.today()\n",
    "\n",
    "#pip install windrose \n",
    "from windrose import WindroseAxes\n",
    "import matplotlib.pyplot as plt\n",
    "\n",
    "\n",
    "import seaborn as sns\n",
    "sns.set(color_codes=True)\n",
    "\n",
    "#https://pmall.univ-grenoble-alpes.fr/docs/auto_examples_code/windrose/windrose-exemple.html"
   ]
  },
  {
   "cell_type": "code",
   "execution_count": 4,
   "metadata": {},
   "outputs": [],
   "source": [
    "#GS\n",
    "#imin = 994\n",
    "#imax = 1295\n",
    "#jmin = 751\n",
    "#jmax = 1155\n",
    "#NE\n",
    "#imin = 3838\n",
    "#imax = 4119\n",
    "#jmin = 1783\n",
    "#jmax = 2239\n",
    "#AC\n",
    "imin = 3088\n",
    "imax = 3386\n",
    "jmin = 301\n",
    "jmax = 657"
   ]
  },
  {
   "cell_type": "code",
   "execution_count": 5,
   "metadata": {},
   "outputs": [],
   "source": [
    "def dx_var(data,e1):\n",
    "    dx_var = (data.shift(x=-1) - data)/e1\n",
    "    return dx_var\n",
    "def dy_var(data,e2):\n",
    "    dy_var = (data.shift(x=-1) - data)/e2\n",
    "    return dy_var\n",
    "    "
   ]
  },
  {
   "cell_type": "code",
   "execution_count": 6,
   "metadata": {},
   "outputs": [],
   "source": [
    "data_dir = '/store/molines/NATL60/NATL60-CJM165-S/1d/'\n",
    "gridfile='/store/molines/NATL60/NATL60-I/NATL60_v4.1_cdf_mesh_hgr.nc'\n",
    "dsgrid=xr.open_dataset(gridfile,chunks={'x':1000,'y':1000})"
   ]
  },
  {
   "cell_type": "code",
   "execution_count": 7,
   "metadata": {},
   "outputs": [],
   "source": [
    "e1=dsgrid['e1t'][0]\n",
    "e2=dsgrid['e2t'][0]\n",
    "\n",
    "date='20120901' \n",
    "year=date[0:4]\n",
    "month=date[4:6]\n",
    "day=date[6:]\n",
    "filename = sorted(glob.glob(data_dir+str(year)+'/NATL60-CJM165_y'+str(year)+'m'+str(month)+'d'+str(day)+'.1d_gridTsurf.nc'))\n"
   ]
  },
  {
   "cell_type": "code",
   "execution_count": 8,
   "metadata": {},
   "outputs": [
    {
     "name": "stdout",
     "output_type": "stream",
     "text": [
      "/store/molines/NATL60/NATL60-CJM165-S/1d/2012/NATL60-CJM165_y2012m09d01.1d_gridTsurf.nc\n"
     ]
    }
   ],
   "source": [
    "file=filename[0]\n",
    "print(file)\n",
    "ds=xr.open_dataset(file,chunks={'x':1000,'y':1000,'time_counter':1})\n",
    "dataT=ds['sosstsst']\n",
    "dataS=ds['sosaline']\n",
    "dataT_dx=dx_var(dataT,e1)\n",
    "dataS_dx=dx_var(dataS,e1)\n",
    "dataT_dy=dy_var(dataT,e1)\n",
    "dataS_dy=dy_var(dataS,e1)\n",
    "R=(dataT_dx + 1j * dataT_dy)/(dataS_dx + 1j * dataS_dy)\n",
    "magR=np.abs(R)\n",
    "magR_ma=ma.masked_invalid(magR)\n",
    "Tu=np.arctan(magR)\n",
    "\n"
   ]
  },
  {
   "cell_type": "code",
   "execution_count": 9,
   "metadata": {},
   "outputs": [],
   "source": [
    "magR_box=magR[:,jmin:jmax,imin:imax].stack(z=('x', 'y','time_counter'))\n",
    "Tu_box=Tu[:,jmin:jmax,imin:imax].stack(z=('x', 'y','time_counter'))\n",
    "    \n",
    "magR_box_nonan=magR_box[~np.isnan(magR_box)]\n",
    "Tu_box_nonan=Tu_box[~np.isnan(magR_box)]\n",
    "magR_box_nonan_noinf=magR_box_nonan[~np.isinf(magR_box_nonan)]\n",
    "Tu_box_nonan_noinf=Tu_box_nonan[~np.isinf(magR_box_nonan)]\n"
   ]
  },
  {
   "cell_type": "code",
   "execution_count": 10,
   "metadata": {},
   "outputs": [],
   "source": [
    "magR_box_nonan_noinf=magR_box_nonan_noinf.reset_index('z')\n",
    "dataset_mag=magR_box_nonan_noinf.to_dataset(name='magR')\n",
    "dataset_mag.attrs['global_attribute']= 'Stack of absolute value of ratio between temperature and salinity gradient of data for day '+str(date)\n",
    "dataset_mag.to_netcdf(path='/scratch/cnt0024/hmg2840/albert7a/NATL60/NATL60-CJM165-S/1d/turner-angle/NATL60-CJM165_magR_'+str(date)+'.1d_AC.nc',mode='w')\n"
   ]
  },
  {
   "cell_type": "code",
   "execution_count": 11,
   "metadata": {},
   "outputs": [],
   "source": [
    "Tu_box_nonan_noinf=Tu_box_nonan_noinf.reset_index('z')\n",
    "dataset_mag=Tu_box_nonan_noinf.to_dataset(name='Tu')\n",
    "dataset_mag.attrs['global_attribute']= 'Stack of turner angle of data for day '+str(date)\n",
    "dataset_mag.to_netcdf(path='/scratch/cnt0024/hmg2840/albert7a/NATL60/NATL60-CJM165-S/1d/turner-angle/NATL60-CJM165_Tu_'+str(date)+'1d__AC.nc',mode='w')\n"
   ]
  },
  {
   "cell_type": "code",
   "execution_count": 12,
   "metadata": {},
   "outputs": [
    {
     "data": {
      "text/plain": [
       "Text(0.5, 1.0, 'turner angle - AC box')"
      ]
     },
     "execution_count": 12,
     "metadata": {},
     "output_type": "execute_result"
    },
    {
     "data": {
      "image/png": "[encoded data removed]",
      "text/plain": [
       "<Figure size 720x360 with 1 Axes>"
      ]
     },
     "metadata": {
      "needs_background": "light"
     },
     "output_type": "display_data"
    },
    {
     "data": {
      "image/png": "[encoded data removed]",
      "text/plain": [
       "<Figure size 720x360 with 1 Axes>"
      ]
     },
     "metadata": {
      "needs_background": "light"
     },
     "output_type": "display_data"
    }
   ],
   "source": [
    "fig = plt.figure(figsize=(10, 5))\n",
    "\n",
    "ax1 = fig.add_axes()    # creates the axes of specified dimensions\n",
    "\n",
    "sns.distplot(magR_box_nonan_noinf,hist=True, kde=False,hist_kws={\"range\": [0,5]})\n",
    "plt.title('ratio temp over sal - AC box')\n",
    "\n",
    "fig = plt.figure(figsize=(10, 5))\n",
    "\n",
    "ax1 = fig.add_axes()    # creates the axes of specified dimensions\n",
    "\n",
    "sns.distplot(Tu_box_nonan_noinf,hist=True, kde=False,hist_kws={\"range\": [0,2]})\n",
    "plt.title('turner angle - AC box')\n"
   ]
  },
  {
   "cell_type": "code",
   "execution_count": null,
   "metadata": {},
   "outputs": [
    {
     "name": "stderr",
     "output_type": "stream",
     "text": [
      "distributed.nanny - WARNING - Worker process 61224 was killed by signal 9\n",
      "distributed.nanny - WARNING - Worker process 61215 was killed by signal 9\n",
      "distributed.nanny - WARNING - Restarting worker\n",
      "distributed.nanny - WARNING - Restarting worker\n",
      "distributed.scheduler - ERROR - Workers don't have promised key: ['tcp://195.83.183.130:35882'], ('getitem-7eeb662320dfc7fb0dcbf03afd467ce3',)\n",
      "NoneType: None\n",
      "distributed.nanny - WARNING - Worker process 61218 was killed by signal 9\n",
      "distributed.client - WARNING - Couldn't gather 1 keys, rescheduling {\"('getitem-7eeb662320dfc7fb0dcbf03afd467ce3',)\": ('tcp://195.83.183.130:35882',)}\n",
      "distributed.nanny - WARNING - Restarting worker\n",
      "distributed.nanny - WARNING - Worker process 29665 was killed by signal 9\n",
      "distributed.nanny - WARNING - Restarting worker\n",
      "distributed.nanny - WARNING - Worker process 61212 was killed by signal 9\n",
      "distributed.nanny - WARNING - Restarting worker\n",
      "distributed.nanny - WARNING - Worker process 13601 was killed by signal 9\n",
      "distributed.nanny - WARNING - Restarting worker\n",
      "distributed.nanny - WARNING - Worker process 61220 was killed by signal 9\n",
      "distributed.nanny - WARNING - Restarting worker\n",
      "distributed.nanny - WARNING - Worker process 40108 was killed by signal 9\n",
      "distributed.nanny - WARNING - Restarting worker\n",
      "distributed.nanny - WARNING - Worker process 43534 was killed by signal 9\n",
      "distributed.nanny - WARNING - Restarting worker\n"
     ]
    }
   ],
   "source": [
    "fig = plt.figure(figsize=(10, 5))\n",
    "\n",
    "rectangle = [0.1, 0.1, 0.75, 0.75]\n",
    "ax = WindroseAxes(fig,rectangle)\n",
    "fig.add_axes(ax)\n",
    "ax.bar(Tu_box_nonan_noinf*180/np.pi, magR_box_nonan_noinf, normed=True, opening=0.8, edgecolor='white', bins=np.arange(0,6, 1))\n",
    "#ax.set_title(\"annual\", position=(0.5, 1.1))\n",
    "\n",
    "ax.set_legend()\n",
    "#ax.legend(title=\"wind speed (m/s)\", loc=(1.1, 0))"
   ]
  },
  {
   "cell_type": "code",
   "execution_count": null,
   "metadata": {},
   "outputs": [],
   "source": []
  }
 ],
 "metadata": {
  "kernelspec": {
   "display_name": "Python 3",
   "language": "python",
   "name": "python3"
  },
  "language_info": {
   "codemirror_mode": {
    "name": "ipython",
    "version": 3
   },
   "file_extension": ".py",
   "mimetype": "text/x-python",
   "name": "python",
   "nbconvert_exporter": "python",
   "pygments_lexer": "ipython3",
   "version": "3.7.3"
  }
 },
 "nbformat": 4,
 "nbformat_minor": 2
}
