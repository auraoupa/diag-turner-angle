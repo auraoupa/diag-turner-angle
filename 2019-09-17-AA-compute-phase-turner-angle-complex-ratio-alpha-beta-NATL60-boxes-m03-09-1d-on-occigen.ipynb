{
 "cells": [
  {
   "cell_type": "code",
   "execution_count": 1,
   "metadata": {},
   "outputs": [
    {
     "name": "stderr",
     "output_type": "stream",
     "text": [
      "/scratch/cnt0024/hmg2840/albert7a/anaconda3/lib/python3.7/site-packages/distributed/dashboard/core.py:74: UserWarning: \n",
      "Failed to start diagnostics server on port 8787. [Errno 13] Permission denied\n",
      "  warnings.warn(\"\\n\" + msg)\n"
     ]
    }
   ],
   "source": [
    "import dask\n",
    "import dask.threaded\n",
    "import dask.multiprocessing\n",
    "from dask.distributed import Client\n",
    "\n",
    "c = Client()\n"
   ]
  },
  {
   "cell_type": "code",
   "execution_count": 2,
   "metadata": {},
   "outputs": [
    {
     "data": {
      "text/html": [
       "<table style=\"border: 2px solid white;\">\n",
       "<tr>\n",
       "<td style=\"vertical-align: top; border: 0px solid white\">\n",
       "<h3>Client</h3>\n",
       "<ul>\n",
       "  <li><b>Scheduler: </b>tcp://127.0.0.1:46537\n",
       "  <li><b>Dashboard: </b><a href='http://127.0.0.1:43252/status' target='_blank'>http://127.0.0.1:43252/status</a>\n",
       "</ul>\n",
       "</td>\n",
       "<td style=\"vertical-align: top; border: 0px solid white\">\n",
       "<h3>Cluster</h3>\n",
       "<ul>\n",
       "  <li><b>Workers: </b>8</li>\n",
       "  <li><b>Cores: </b>48</li>\n",
       "  <li><b>Memory: </b>134.91 GB</li>\n",
       "</ul>\n",
       "</td>\n",
       "</tr>\n",
       "</table>"
      ],
      "text/plain": [
       "<Client: scheduler='tcp://127.0.0.1:46537' processes=8 cores=48>"
      ]
     },
     "execution_count": 2,
     "metadata": {},
     "output_type": "execute_result"
    }
   ],
   "source": [
    "c"
   ]
  },
  {
   "cell_type": "code",
   "execution_count": 3,
   "metadata": {},
   "outputs": [],
   "source": [
    "import xarray as xr \n",
    "import dask \n",
    "import numpy as np \n",
    "import os \n",
    "import time \n",
    "import glob\n",
    "from datetime import date\n",
    "import numpy.ma as ma\n",
    "\n",
    "today=date.today()\n",
    "\n",
    "#https://pmall.univ-grenoble-alpes.fr/docs/auto_examples_code/windrose/windrose-exemple.html"
   ]
  },
  {
   "cell_type": "code",
   "execution_count": 4,
   "metadata": {},
   "outputs": [],
   "source": [
    "def dx_var(data,e1):\n",
    "    dx_var = (data.shift(x=-1) - data)/e1\n",
    "    return dx_var\n",
    "def dy_var(data,e2):\n",
    "    dy_var = (data.shift(y=-1) - data)/e2\n",
    "    return dy_var\n",
    "def alpha_beta(tem,salt):\n",
    "    zt=tem-10  #potential temperature anomaly\n",
    "    zs=salt-35 #abs salinity anomaly\n",
    "    zh=0.4804548 # depth at the surface\n",
    "    rn_a0=1.6550e-1 # thermal expansion coeff\n",
    "    rn_b0=7.6554e-1 # saline  expansion coeff\n",
    "    rn_lambda1=5.9520e-2 #cabbeling coeff. in T^2\n",
    "    rn_mu1=1.4970e-4 #thermobaric coeff. in T\n",
    "    rn_nu=2.4341e-3 #cabbeling coeff. in theta*salt  \n",
    "    rau0=1026  #volumic mass of reference     [kg/m3]\n",
    "    r1_rau0= 1/rau0\n",
    "    rn_lambda2=5.4914e-4 #cabbeling coeff. in S^2\n",
    "    rn_mu2=1.1090e-5 #thermobaric coeff. in S\n",
    "    zn  = rn_a0 * ( 1. + rn_lambda1*zt + rn_mu1*zh ) + rn_nu*zs\n",
    "    alpha=zn * r1_rau0 \n",
    "    zn  = rn_b0 * ( 1. - rn_lambda2*zs - rn_mu2*zh ) - rn_nu*zt\n",
    "    beta=zn * r1_rau0\n",
    "    return alpha,beta"
   ]
  },
  {
   "cell_type": "code",
   "execution_count": 5,
   "metadata": {},
   "outputs": [],
   "source": [
    "data_dir = '/store/molines/NATL60/NATL60-CJM165-S/1d/'\n",
    "gridfile='/store/molines/NATL60/NATL60-I/NATL60_v4.1_cdf_mesh_hgr.nc'\n",
    "dsgrid=xr.open_dataset(gridfile,chunks={'x':1000,'y':1000})"
   ]
  },
  {
   "cell_type": "code",
   "execution_count": 6,
   "metadata": {},
   "outputs": [],
   "source": [
    "e1=dsgrid['e1t'][0]\n",
    "e2=dsgrid['e2t'][0]\n"
   ]
  },
  {
   "cell_type": "code",
   "execution_count": 7,
   "metadata": {},
   "outputs": [],
   "source": [
    "imin = {'AC' : 3088, 'NE' :3838, 'GS' : 994}\n",
    "imax = {'AC' : 3386, 'NE' :4119, 'GS' : 1295}\n",
    "jmin = {'AC' : 301, 'NE' :1783, 'GS' : 751}\n",
    "jmax = {'AC' : 657, 'NE' :2239, 'GS' : 1155}\n"
   ]
  },
  {
   "cell_type": "code",
   "execution_count": 8,
   "metadata": {
    "scrolled": false
   },
   "outputs": [
    {
     "name": "stdout",
     "output_type": "stream",
     "text": [
      "20130301\n",
      "/store/molines/NATL60/NATL60-CJM165-S/1d/2013/NATL60-CJM165_y2013m03d01.1d_gridTsurf.nc\n",
      "20130302\n",
      "/store/molines/NATL60/NATL60-CJM165-S/1d/2013/NATL60-CJM165_y2013m03d02.1d_gridTsurf.nc\n",
      "20130303\n",
      "/store/molines/NATL60/NATL60-CJM165-S/1d/2013/NATL60-CJM165_y2013m03d03.1d_gridTsurf.nc\n",
      "20130304\n",
      "/store/molines/NATL60/NATL60-CJM165-S/1d/2013/NATL60-CJM165_y2013m03d04.1d_gridTsurf.nc\n",
      "20130305\n",
      "/store/molines/NATL60/NATL60-CJM165-S/1d/2013/NATL60-CJM165_y2013m03d05.1d_gridTsurf.nc\n",
      "20130306\n",
      "/store/molines/NATL60/NATL60-CJM165-S/1d/2013/NATL60-CJM165_y2013m03d06.1d_gridTsurf.nc\n",
      "20130307\n",
      "/store/molines/NATL60/NATL60-CJM165-S/1d/2013/NATL60-CJM165_y2013m03d07.1d_gridTsurf.nc\n",
      "20130308\n",
      "/store/molines/NATL60/NATL60-CJM165-S/1d/2013/NATL60-CJM165_y2013m03d08.1d_gridTsurf.nc\n",
      "20130309\n",
      "/store/molines/NATL60/NATL60-CJM165-S/1d/2013/NATL60-CJM165_y2013m03d09.1d_gridTsurf.nc\n",
      "20130310\n",
      "/store/molines/NATL60/NATL60-CJM165-S/1d/2013/NATL60-CJM165_y2013m03d10.1d_gridTsurf.nc\n",
      "20130311\n",
      "/store/molines/NATL60/NATL60-CJM165-S/1d/2013/NATL60-CJM165_y2013m03d11.1d_gridTsurf.nc\n",
      "20130312\n",
      "/store/molines/NATL60/NATL60-CJM165-S/1d/2013/NATL60-CJM165_y2013m03d12.1d_gridTsurf.nc\n",
      "20130313\n",
      "/store/molines/NATL60/NATL60-CJM165-S/1d/2013/NATL60-CJM165_y2013m03d13.1d_gridTsurf.nc\n",
      "20130314\n",
      "/store/molines/NATL60/NATL60-CJM165-S/1d/2013/NATL60-CJM165_y2013m03d14.1d_gridTsurf.nc\n",
      "20130315\n",
      "/store/molines/NATL60/NATL60-CJM165-S/1d/2013/NATL60-CJM165_y2013m03d15.1d_gridTsurf.nc\n",
      "20130316\n",
      "/store/molines/NATL60/NATL60-CJM165-S/1d/2013/NATL60-CJM165_y2013m03d16.1d_gridTsurf.nc\n",
      "20130317\n",
      "/store/molines/NATL60/NATL60-CJM165-S/1d/2013/NATL60-CJM165_y2013m03d17.1d_gridTsurf.nc\n",
      "20130318\n",
      "/store/molines/NATL60/NATL60-CJM165-S/1d/2013/NATL60-CJM165_y2013m03d18.1d_gridTsurf.nc\n",
      "20130319\n",
      "/store/molines/NATL60/NATL60-CJM165-S/1d/2013/NATL60-CJM165_y2013m03d19.1d_gridTsurf.nc\n",
      "20130320\n",
      "/store/molines/NATL60/NATL60-CJM165-S/1d/2013/NATL60-CJM165_y2013m03d20.1d_gridTsurf.nc\n",
      "20130321\n",
      "/store/molines/NATL60/NATL60-CJM165-S/1d/2013/NATL60-CJM165_y2013m03d21.1d_gridTsurf.nc\n",
      "20130322\n",
      "/store/molines/NATL60/NATL60-CJM165-S/1d/2013/NATL60-CJM165_y2013m03d22.1d_gridTsurf.nc\n",
      "20130323\n",
      "/store/molines/NATL60/NATL60-CJM165-S/1d/2013/NATL60-CJM165_y2013m03d23.1d_gridTsurf.nc\n",
      "20130324\n",
      "/store/molines/NATL60/NATL60-CJM165-S/1d/2013/NATL60-CJM165_y2013m03d24.1d_gridTsurf.nc\n",
      "20130325\n",
      "/store/molines/NATL60/NATL60-CJM165-S/1d/2013/NATL60-CJM165_y2013m03d25.1d_gridTsurf.nc\n",
      "20130326\n",
      "/store/molines/NATL60/NATL60-CJM165-S/1d/2013/NATL60-CJM165_y2013m03d26.1d_gridTsurf.nc\n",
      "20130327\n",
      "/store/molines/NATL60/NATL60-CJM165-S/1d/2013/NATL60-CJM165_y2013m03d27.1d_gridTsurf.nc\n",
      "20130328\n",
      "/store/molines/NATL60/NATL60-CJM165-S/1d/2013/NATL60-CJM165_y2013m03d28.1d_gridTsurf.nc\n",
      "20130329\n",
      "/store/molines/NATL60/NATL60-CJM165-S/1d/2013/NATL60-CJM165_y2013m03d29.1d_gridTsurf.nc\n",
      "20130330\n",
      "/store/molines/NATL60/NATL60-CJM165-S/1d/2013/NATL60-CJM165_y2013m03d30.1d_gridTsurf.nc\n"
     ]
    },
    {
     "name": "stderr",
     "output_type": "stream",
     "text": [
      "distributed.nanny - WARNING - Worker process 40868 was killed by signal 9\n",
      "distributed.nanny - WARNING - Worker process 40872 was killed by signal 9\n",
      "distributed.nanny - WARNING - Worker process 40876 was killed by signal 9\n",
      "distributed.nanny - WARNING - Worker process 40880 was killed by signal 9\n",
      "distributed.nanny - WARNING - Restarting worker\n",
      "distributed.nanny - WARNING - Restarting worker\n",
      "distributed.nanny - WARNING - Worker process 40884 was killed by signal 9\n",
      "distributed.nanny - WARNING - Restarting worker\n",
      "distributed.nanny - WARNING - Restarting worker\n",
      "distributed.nanny - WARNING - Worker process 40888 was killed by signal 9\n",
      "distributed.nanny - WARNING - Worker process 40892 was killed by signal 9\n",
      "distributed.nanny - WARNING - Restarting worker\n",
      "distributed.nanny - WARNING - Restarting worker\n",
      "distributed.nanny - WARNING - Restarting worker\n",
      "distributed.nanny - WARNING - Worker process 40896 was killed by signal 9\n",
      "distributed.nanny - WARNING - Restarting worker\n"
     ]
    }
   ],
   "source": [
    "#for month in ['march', 'september']:\n",
    "for month in ['march']:\n",
    "\n",
    "    if month == 'march':\n",
    "        Date=['20130301','20130302','20130303','20130304','20130305','20130306','20130307','20130308','20130309','20130310','20130311','20130312','20130313','20130314','20130315','20130316','20130317','20130318','20130319','20130320','20130321','20130322','20130323','20130324','20130325','20130326','20130327','20130328','20130329','20130330']\n",
    "    if month == 'september':\n",
    "        Date=['20120901','20120902','20120903','20120904','20120905','20120906','20120907','20120908','20120909','20120910','20120911','20120912','20120913','20120914','20120915','20120916','20120917','20120918','20120919','20120920','20120921','20120922','20120923','20120924','20120925','20120926','20120927','20120928','20120929','20120930']\n",
    "\n",
    "    for date in Date:\n",
    "        print(date)\n",
    "        \n",
    "        year=date[0:4]\n",
    "        month=date[4:6]\n",
    "        day=date[6:]\n",
    "\n",
    "        filename = sorted(glob.glob(data_dir+str(year)+'/NATL60-CJM165_y'+str(year)+'m'+str(month)+'d'+str(day)+'.1d_gridTsurf.nc'))\n",
    "        file=filename[0]\n",
    "        print(file)\n",
    "\n",
    "        ds=xr.open_dataset(file,chunks={'x':1000,'y':1000,'time_counter':1})\n",
    "        dataT=ds['sosstsst']\n",
    "        dataS=ds['sosaline']\n",
    "        dataT_dx=dx_var(dataT,e1)\n",
    "        dataS_dx=dx_var(dataS,e1)\n",
    "        dataT_dy=dy_var(dataT,e1)\n",
    "        dataS_dy=dy_var(dataS,e1)\n",
    "        alpha,beta=alpha_beta(dataT,dataS)\n",
    "        R=alpha*(dataT_dx + 1j * dataT_dy)/(beta*(dataS_dx + 1j * dataS_dy))\n",
    "        magR=np.abs(R)\n",
    "        magR_ma=ma.masked_invalid(magR)\n",
    "        Tu=np.arctan(magR)\n",
    "        phi=np.angle(R)\n",
    "        buoy=alpha*np.sqrt(dataT_dx*dataT_dx+dataT_dy*dataT_dy)-beta*np.sqrt(dataS_dx*dataS_dx+dataS_dy*dataS_dy)\n",
    "        spice=alpha*np.sqrt(dataT_dx*dataT_dx+dataT_dy*dataT_dy)+beta*np.sqrt(dataS_dx*dataS_dx+dataS_dy*dataS_dy)\n",
    "\n",
    "        for box in ['NE','GS']:\n",
    "#        for box in ['AC']:\n",
    "\n",
    "            filename='/scratch/cnt0024/hmg2840/albert7a/NATL60/NATL60-CJM165-S/1d/turner-angle/NATL60-CJM165_magR_norm_'+str(date)+'.1d_'+str(box)+'.nc'\n",
    "            if not os.path.exists(filename): \n",
    "                \n",
    "                print('compute magR for box '+str(box))\n",
    "                magR_box=magR[:,jmin[box]:jmax[box],imin[box]:imax[box]].stack(z=('x', 'y','time_counter'))\n",
    "                Tu_box=Tu[:,jmin[box]:jmax[box],imin[box]:imax[box]].stack(z=('x', 'y','time_counter'))\n",
    "        \n",
    "                magR_box_nonan=magR_box[~np.isnan(magR_box)]\n",
    "                Tu_box_nonan=Tu_box[~np.isnan(magR_box)]\n",
    "                magR_box_nonan_noinf=magR_box_nonan[~np.isinf(magR_box_nonan)]\n",
    "                Tu_box_nonan_noinf=Tu_box_nonan[~np.isinf(magR_box_nonan)]\n",
    "                magR_box_nonan_noinf=magR_box_nonan_noinf.reset_index('z')\n",
    "                Tu_box_nonan_noinf=Tu_box_nonan_noinf.reset_index('z')\n",
    "\n",
    "                print('write /'+filename)\n",
    "                dataset_mag=magR_box_nonan_noinf.to_dataset(name='magR')\n",
    "                dataset_mag.attrs['global_attribute']= 'Stack of absolute value of ratio between temperature and salinity gradient of data for day '+str(date)\n",
    "                dataset_mag.to_netcdf(path=filename,mode='w')\n",
    "\n",
    "            filename='/scratch/cnt0024/hmg2840/albert7a/NATL60/NATL60-CJM165-S/1d/turner-angle/NATL60-CJM165_phi_norm'+str(date)+'.1d_'+str(box)+'.nc'\n",
    "            if not os.path.exists(filename): \n",
    "                \n",
    "                print('compute phi for box '+str(box))\n",
    "                magR_box=magR[:,jmin[box]:jmax[box],imin[box]:imax[box]].stack(z=('x', 'y','time_counter'))\n",
    "                phi_box=phi[:,jmin[box]:jmax[box],imin[box]:imax[box]].flatten()\n",
    "        \n",
    "                magR_box_nonan=magR_box[~np.isnan(magR_box)]\n",
    "                phi_box_nonan=phi_box[~np.isnan(magR_box)]\n",
    "                magR_box_nonan_noinf=magR_box_nonan[~np.isinf(magR_box_nonan)]\n",
    "                phi_box_nonan_noinf=phi_box_nonan[~np.isinf(magR_box_nonan)]\n",
    "                magR_box_nonan_noinf=magR_box_nonan_noinf.reset_index('z')\n",
    "                phi_box_nonan_noinf_da=magR_box_nonan_noinf.copy(data=phi_box_nonan_noinf)\n",
    "\n",
    "                print('write '+filename)\n",
    "                dataset_phi=phi_box_nonan_noinf_da.to_dataset(name='phi')\n",
    "                dataset_phi.attrs['global_attribute']= 'Stack of phase of complex ratio of data for day '+str(date)\n",
    "                dataset_phi.to_netcdf(path=filename,mode='w')\n",
    "\n",
    "            filename='/scratch/cnt0024/hmg2840/albert7a/NATL60/NATL60-CJM165-S/1d/turner-angle/NATL60-CJM165_Tu_norm_'+str(date)+'.1d_'+str(box)+'.nc'\n",
    "            if not os.path.exists(filename):\n",
    "                \n",
    "                print('compute Tu for box '+str(box))\n",
    "                magR_box=magR[:,jmin[box]:jmax[box],imin[box]:imax[box]].stack(z=('x', 'y','time_counter'))\n",
    "                Tu_box=Tu[:,jmin[box]:jmax[box],imin[box]:imax[box]].stack(z=('x', 'y','time_counter'))\n",
    "        \n",
    "                magR_box_nonan=magR_box[~np.isnan(magR_box)]\n",
    "                Tu_box_nonan=Tu_box[~np.isnan(magR_box)]\n",
    "                magR_box_nonan_noinf=magR_box_nonan[~np.isinf(magR_box_nonan)]\n",
    "                Tu_box_nonan_noinf=Tu_box_nonan[~np.isinf(magR_box_nonan)]\n",
    "                magR_box_nonan_noinf=magR_box_nonan_noinf.reset_index('z')\n",
    "                Tu_box_nonan_noinf=Tu_box_nonan_noinf.reset_index('z')\n",
    "\n",
    "                print('write '+filename)\n",
    "                dataset_mag=Tu_box_nonan_noinf.to_dataset(name='Tu')\n",
    "                dataset_mag.attrs['global_attribute']= 'Stack of turner angle of data for day '+str(date)\n",
    "                dataset_mag.to_netcdf(path=filename,mode='w')\n",
    "\n"
   ]
  },
  {
   "cell_type": "code",
   "execution_count": null,
   "metadata": {},
   "outputs": [],
   "source": []
  }
 ],
 "metadata": {
  "kernelspec": {
   "display_name": "Python 3",
   "language": "python",
   "name": "python3"
  },
  "language_info": {
   "codemirror_mode": {
    "name": "ipython",
    "version": 3
   },
   "file_extension": ".py",
   "mimetype": "text/x-python",
   "name": "python",
   "nbconvert_exporter": "python",
   "pygments_lexer": "ipython3",
   "version": "3.7.3"
  }
 },
 "nbformat": 4,
 "nbformat_minor": 2
}
