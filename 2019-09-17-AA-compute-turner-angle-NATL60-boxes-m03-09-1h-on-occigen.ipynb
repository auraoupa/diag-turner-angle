{
 "cells": [
  {
   "cell_type": "code",
   "execution_count": 1,
   "metadata": {},
   "outputs": [
    {
     "name": "stderr",
     "output_type": "stream",
     "text": [
      "/scratch/cnt0024/hmg2840/albert7a/anaconda3/lib/python3.7/site-packages/distributed/dashboard/core.py:74: UserWarning: \n",
      "Failed to start diagnostics server on port 8787. [Errno 13] Permission denied\n",
      "  warnings.warn(\"\\n\" + msg)\n"
     ]
    }
   ],
   "source": [
    "import dask\n",
    "import dask.threaded\n",
    "import dask.multiprocessing\n",
    "from dask.distributed import Client\n",
    "\n",
    "c = Client()\n"
   ]
  },
  {
   "cell_type": "code",
   "execution_count": 2,
   "metadata": {},
   "outputs": [
    {
     "data": {
      "text/html": [
       "<table style=\"border: 2px solid white;\">\n",
       "<tr>\n",
       "<td style=\"vertical-align: top; border: 0px solid white\">\n",
       "<h3>Client</h3>\n",
       "<ul>\n",
       "  <li><b>Scheduler: </b>tcp://127.0.0.1:46783\n",
       "  <li><b>Dashboard: </b><a href='http://127.0.0.1:36434/status' target='_blank'>http://127.0.0.1:36434/status</a>\n",
       "</ul>\n",
       "</td>\n",
       "<td style=\"vertical-align: top; border: 0px solid white\">\n",
       "<h3>Cluster</h3>\n",
       "<ul>\n",
       "  <li><b>Workers: </b>8</li>\n",
       "  <li><b>Cores: </b>48</li>\n",
       "  <li><b>Memory: </b>134.91 GB</li>\n",
       "</ul>\n",
       "</td>\n",
       "</tr>\n",
       "</table>"
      ],
      "text/plain": [
       "<Client: scheduler='tcp://127.0.0.1:46783' processes=8 cores=48>"
      ]
     },
     "execution_count": 2,
     "metadata": {},
     "output_type": "execute_result"
    }
   ],
   "source": [
    "c"
   ]
  },
  {
   "cell_type": "code",
   "execution_count": 3,
   "metadata": {},
   "outputs": [],
   "source": [
    "import xarray as xr \n",
    "import dask \n",
    "import numpy as np \n",
    "import os \n",
    "import time \n",
    "import glob\n",
    "from datetime import date\n",
    "import numpy.ma as ma\n",
    "\n",
    "today=date.today()\n",
    "\n",
    "#https://pmall.univ-grenoble-alpes.fr/docs/auto_examples_code/windrose/windrose-exemple.html"
   ]
  },
  {
   "cell_type": "code",
   "execution_count": 4,
   "metadata": {},
   "outputs": [],
   "source": [
    "def dx_var(data,e1):\n",
    "    dx_var = (data.shift(x=-1) - data)/e1\n",
    "    return dx_var\n",
    "def dy_var(data,e2):\n",
    "    dy_var = (data.shift(y=-1) - data)/e2\n",
    "    return dy_var\n",
    "    "
   ]
  },
  {
   "cell_type": "code",
   "execution_count": 5,
   "metadata": {},
   "outputs": [],
   "source": [
    "data_dir = '/store/molines/NATL60/NATL60-CJM165-S/1h/'\n",
    "gridfile='/store/molines/NATL60/NATL60-I/NATL60_v4.1_cdf_mesh_hgr.nc'\n",
    "dsgrid=xr.open_dataset(gridfile,chunks={'x':1000,'y':1000})"
   ]
  },
  {
   "cell_type": "code",
   "execution_count": 6,
   "metadata": {},
   "outputs": [],
   "source": [
    "e1=dsgrid['e1t'][0]\n",
    "e2=dsgrid['e2t'][0]\n"
   ]
  },
  {
   "cell_type": "code",
   "execution_count": 7,
   "metadata": {},
   "outputs": [],
   "source": [
    "imin = {'AC' : 3088, 'NE' :3838, 'GS' : 994}\n",
    "imax = {'AC' : 3386, 'NE' :4119, 'GS' : 1295}\n",
    "jmin = {'AC' : 301, 'NE' :1783, 'GS' : 751}\n",
    "jmax = {'AC' : 657, 'NE' :2239, 'GS' : 1155}\n"
   ]
  },
  {
   "cell_type": "code",
   "execution_count": null,
   "metadata": {
    "scrolled": false
   },
   "outputs": [
    {
     "name": "stdout",
     "output_type": "stream",
     "text": [
      "20130301\n",
      "/store/molines/NATL60/NATL60-CJM165-S/1h/2013/NATL60-CJM165_y2013m03d01.1h_gridT.nc\n",
      "compute magR for box NE\n"
     ]
    },
    {
     "name": "stderr",
     "output_type": "stream",
     "text": [
      "distributed.comm.tcp - WARNING - Closing dangling stream in <TCP  local=tcp://127.0.0.1:54042 remote=tcp://127.0.0.1:46783>\n",
      "distributed.nanny - WARNING - Worker process 23559 was killed by signal 9\n",
      "distributed.nanny - WARNING - Worker process 23561 was killed by signal 9\n",
      "distributed.nanny - WARNING - Restarting worker\n",
      "distributed.nanny - WARNING - Restarting worker\n",
      "distributed.nanny - WARNING - Worker process 23565 was killed by signal 9\n",
      "distributed.nanny - WARNING - Worker process 23563 was killed by signal 9\n",
      "distributed.nanny - WARNING - Restarting worker\n",
      "distributed.nanny - WARNING - Restarting worker\n",
      "distributed.nanny - WARNING - Worker process 23571 was killed by signal 9\n",
      "distributed.nanny - WARNING - Restarting worker\n",
      "distributed.nanny - WARNING - Worker process 23567 was killed by signal 9\n",
      "distributed.nanny - WARNING - Worker process 23569 was killed by signal 9\n",
      "distributed.nanny - WARNING - Restarting worker\n",
      "distributed.nanny - WARNING - Restarting worker\n",
      "distributed.nanny - WARNING - Worker process 23573 was killed by signal 9\n",
      "distributed.nanny - WARNING - Restarting worker\n"
     ]
    },
    {
     "name": "stdout",
     "output_type": "stream",
     "text": [
      "write //scratch/cnt0024/hmg2840/albert7a/NATL60/NATL60-CJM165-S/1h/turner-angle/NATL60-CJM165_magR_20130301.1h_NE.nc\n",
      "compute magR for box NE\n"
     ]
    },
    {
     "name": "stderr",
     "output_type": "stream",
     "text": [
      "distributed.nanny - WARNING - Worker process 53819 was killed by signal 9\n",
      "distributed.nanny - WARNING - Worker process 53815 was killed by signal 9\n",
      "distributed.nanny - WARNING - Worker process 53887 was killed by signal 9\n",
      "distributed.nanny - WARNING - Worker process 53895 was killed by signal 9\n",
      "distributed.nanny - WARNING - Worker process 53922 was killed by signal 9\n",
      "distributed.nanny - WARNING - Worker process 54019 was killed by signal 9\n",
      "distributed.nanny - WARNING - Worker process 54117 was killed by signal 9\n",
      "distributed.nanny - WARNING - Worker process 54027 was killed by signal 9\n",
      "distributed.nanny - WARNING - Restarting worker\n",
      "distributed.nanny - WARNING - Restarting worker\n",
      "distributed.nanny - WARNING - Restarting worker\n",
      "distributed.nanny - WARNING - Restarting worker\n",
      "distributed.nanny - WARNING - Restarting worker\n",
      "distributed.nanny - WARNING - Restarting worker\n",
      "distributed.nanny - WARNING - Restarting worker\n",
      "distributed.nanny - WARNING - Restarting worker\n",
      "distributed.nanny - WARNING - Worker exceeded 95% memory budget. Restarting\n",
      "distributed.nanny - WARNING - Worker process 4360 was killed by signal 15\n",
      "distributed.nanny - WARNING - Restarting worker\n"
     ]
    },
    {
     "name": "stdout",
     "output_type": "stream",
     "text": [
      "write /scratch/cnt0024/hmg2840/albert7a/NATL60/NATL60-CJM165-S/1h/turner-angle/NATL60-CJM165_Tu_20130301.1h_NE.nc\n",
      "compute magR for box GS\n"
     ]
    }
   ],
   "source": [
    "for month in ['march', 'september']:\n",
    "#for month in ['september']:\n",
    "    \n",
    "    if month == 'march':\n",
    "        Date=['20130301','20130302','20130303','20130304','20130305','20130306','20130307','20130308','20130309','20130310','20130311','20130312','20130313','20130314','20130315','20130316','20130317','20130318','20130319','20130320','20130321','20130322','20130323','20130324','20130325','20130326','20130327','20130328','20130329','20130330']\n",
    "    if month == 'september':\n",
    "        Date=['20120901','20120902','20120903','20120904','20120905','20120906','20120907','20120908','20120909','20120910','20120911','20120912','20120913','20120914','20120915','20120916','20120917','20120918','20120919','20120920','20120921','20120922','20120923','20120924','20120925','20120926','20120927','20120928','20120929','20120930']\n",
    "\n",
    "    for date in Date:\n",
    "        print(date)\n",
    "        \n",
    "        year=date[0:4]\n",
    "        month=date[4:6]\n",
    "        day=date[6:]\n",
    "\n",
    "        filename = sorted(glob.glob(data_dir+str(year)+'/NATL60-CJM165_y'+str(year)+'m'+str(month)+'d'+str(day)+'.1h_gridT.nc'))\n",
    "        file=filename[0]\n",
    "        print(file)\n",
    "\n",
    "        ds=xr.open_dataset(file,chunks={'x':1000,'y':1000,'time_counter':1})\n",
    "        dataT=ds['sosstsst']\n",
    "        dataS=ds['sosaline']\n",
    "        dataT_dx=dx_var(dataT,e1)\n",
    "        dataS_dx=dx_var(dataS,e1)\n",
    "        dataT_dy=dy_var(dataT,e1)\n",
    "        dataS_dy=dy_var(dataS,e1)\n",
    "        R=(dataT_dx + 1j * dataT_dy)/(dataS_dx + 1j * dataS_dy)\n",
    "        magR=np.abs(R)\n",
    "        magR_ma=ma.masked_invalid(magR)\n",
    "        Tu=np.arctan(magR)\n",
    "        \n",
    "#        for box in ['AC','NE','GS']:\n",
    "        for box in ['NE','GS']:\n",
    "\n",
    "            filename='/scratch/cnt0024/hmg2840/albert7a/NATL60/NATL60-CJM165-S/1h/turner-angle/NATL60-CJM165_magR_'+str(date)+'.1h_'+str(box)+'.nc'\n",
    "            if not os.path.exists(filename): \n",
    "                \n",
    "                print('compute magR for box '+str(box))\n",
    "                magR_box=magR[:,jmin[box]:jmax[box],imin[box]:imax[box]].stack(z=('x', 'y','time_counter'))\n",
    "                Tu_box=Tu[:,jmin[box]:jmax[box],imin[box]:imax[box]].stack(z=('x', 'y','time_counter'))\n",
    "        \n",
    "                magR_box_nonan=magR_box[~np.isnan(magR_box)]\n",
    "                Tu_box_nonan=Tu_box[~np.isnan(magR_box)]\n",
    "                magR_box_nonan_noinf=magR_box_nonan[~np.isinf(magR_box_nonan)]\n",
    "                Tu_box_nonan_noinf=Tu_box_nonan[~np.isinf(magR_box_nonan)]\n",
    "                magR_box_nonan_noinf=magR_box_nonan_noinf.reset_index('z')\n",
    "                Tu_box_nonan_noinf=Tu_box_nonan_noinf.reset_index('z')\n",
    "\n",
    "                print('write /'+filename)\n",
    "                dataset_mag=magR_box_nonan_noinf.to_dataset(name='magR')\n",
    "                dataset_mag.attrs['global_attribute']= 'Stack of absolute value of ratio between temperature and salinity gradient of data for day '+str(date)\n",
    "                dataset_mag.to_netcdf(path=filename,mode='w')\n",
    "    \n",
    "            filename='/scratch/cnt0024/hmg2840/albert7a/NATL60/NATL60-CJM165-S/1h/turner-angle/NATL60-CJM165_Tu_'+str(date)+'.1h_'+str(box)+'.nc'\n",
    "            if not os.path.exists(filename):\n",
    "                \n",
    "                print('compute magR for box '+str(box))\n",
    "                magR_box=magR[:,jmin[box]:jmax[box],imin[box]:imax[box]].stack(z=('x', 'y','time_counter'))\n",
    "                Tu_box=Tu[:,jmin[box]:jmax[box],imin[box]:imax[box]].stack(z=('x', 'y','time_counter'))\n",
    "        \n",
    "                magR_box_nonan=magR_box[~np.isnan(magR_box)]\n",
    "                Tu_box_nonan=Tu_box[~np.isnan(magR_box)]\n",
    "                magR_box_nonan_noinf=magR_box_nonan[~np.isinf(magR_box_nonan)]\n",
    "                Tu_box_nonan_noinf=Tu_box_nonan[~np.isinf(magR_box_nonan)]\n",
    "                magR_box_nonan_noinf=magR_box_nonan_noinf.reset_index('z')\n",
    "                Tu_box_nonan_noinf=Tu_box_nonan_noinf.reset_index('z')\n",
    "\n",
    "                print('write '+filename)\n",
    "                dataset_mag=Tu_box_nonan_noinf.to_dataset(name='Tu')\n",
    "                dataset_mag.attrs['global_attribute']= 'Stack of turner angle of data for day '+str(date)\n",
    "                dataset_mag.to_netcdf(path=filename,mode='w')\n"
   ]
  },
  {
   "cell_type": "code",
   "execution_count": null,
   "metadata": {},
   "outputs": [],
   "source": []
  }
 ],
 "metadata": {
  "kernelspec": {
   "display_name": "Python 3",
   "language": "python",
   "name": "python3"
  },
  "language_info": {
   "codemirror_mode": {
    "name": "ipython",
    "version": 3
   },
   "file_extension": ".py",
   "mimetype": "text/x-python",
   "name": "python",
   "nbconvert_exporter": "python",
   "pygments_lexer": "ipython3",
   "version": "3.7.3"
  }
 },
 "nbformat": 4,
 "nbformat_minor": 2
}
