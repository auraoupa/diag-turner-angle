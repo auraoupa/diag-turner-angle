{
 "cells": [
  {
   "cell_type": "code",
   "execution_count": 1,
   "metadata": {},
   "outputs": [
    {
     "name": "stderr",
     "output_type": "stream",
     "text": [
      "/scratch/cnt0024/hmg2840/albert7a/anaconda3/lib/python3.7/site-packages/distributed/dashboard/core.py:74: UserWarning: \n",
      "Failed to start diagnostics server on port 8787. [Errno 13] Permission denied\n",
      "  warnings.warn(\"\\n\" + msg)\n"
     ]
    }
   ],
   "source": [
    "import dask\n",
    "import dask.threaded\n",
    "import dask.multiprocessing\n",
    "from dask.distributed import Client\n",
    "\n",
    "c = Client()\n"
   ]
  },
  {
   "cell_type": "code",
   "execution_count": 2,
   "metadata": {},
   "outputs": [
    {
     "data": {
      "text/html": [
       "<table style=\"border: 2px solid white;\">\n",
       "<tr>\n",
       "<td style=\"vertical-align: top; border: 0px solid white\">\n",
       "<h3>Client</h3>\n",
       "<ul>\n",
       "  <li><b>Scheduler: </b>tcp://127.0.0.1:42787\n",
       "  <li><b>Dashboard: </b><a href='http://127.0.0.1:37831/status' target='_blank'>http://127.0.0.1:37831/status</a>\n",
       "</ul>\n",
       "</td>\n",
       "<td style=\"vertical-align: top; border: 0px solid white\">\n",
       "<h3>Cluster</h3>\n",
       "<ul>\n",
       "  <li><b>Workers: </b>8</li>\n",
       "  <li><b>Cores: </b>48</li>\n",
       "  <li><b>Memory: </b>134.91 GB</li>\n",
       "</ul>\n",
       "</td>\n",
       "</tr>\n",
       "</table>"
      ],
      "text/plain": [
       "<Client: scheduler='tcp://127.0.0.1:42787' processes=8 cores=48>"
      ]
     },
     "execution_count": 2,
     "metadata": {},
     "output_type": "execute_result"
    }
   ],
   "source": [
    "c"
   ]
  },
  {
   "cell_type": "code",
   "execution_count": 3,
   "metadata": {},
   "outputs": [
    {
     "name": "stderr",
     "output_type": "stream",
     "text": [
      "/scratch/cnt0024/hmg2840/albert7a/anaconda3/lib/python3.7/site-packages/windrose/windrose.py:29: MatplotlibDeprecationWarning: \n",
      "The Appender class was deprecated in Matplotlib 3.1 and will be removed in 3.3.\n",
      "  addendum = docstring.Appender(msg, \"\\n\\n\")\n",
      "/scratch/cnt0024/hmg2840/albert7a/anaconda3/lib/python3.7/site-packages/windrose/windrose.py:30: MatplotlibDeprecationWarning: \n",
      "The copy_dedent function was deprecated in Matplotlib 3.1 and will be removed in 3.3. Use docstring.copy() and cbook.dedent() instead.\n",
      "  return lambda func: addendum(docstring.copy_dedent(base)(func))\n",
      "/scratch/cnt0024/hmg2840/albert7a/anaconda3/lib/python3.7/site-packages/windrose/windrose.py:30: MatplotlibDeprecationWarning: \n",
      "The dedent function was deprecated in Matplotlib 3.1 and will be removed in 3.3. Use inspect.getdoc() instead.\n",
      "  return lambda func: addendum(docstring.copy_dedent(base)(func))\n",
      "/scratch/cnt0024/hmg2840/albert7a/anaconda3/lib/python3.7/site-packages/windrose/windrose.py:30: MatplotlibDeprecationWarning: \n",
      "The dedent function was deprecated in Matplotlib 3.1 and will be removed in 3.3. Use inspect.cleandoc instead.\n",
      "  return lambda func: addendum(docstring.copy_dedent(base)(func))\n"
     ]
    }
   ],
   "source": [
    "import xarray as xr \n",
    "import dask \n",
    "import numpy as np \n",
    "import os \n",
    "import time \n",
    "import glob\n",
    "from datetime import date\n",
    "import numpy.ma as ma\n",
    "\n",
    "today=date.today()\n",
    "\n",
    "import matplotlib.pyplot as plt\n",
    "\n",
    "import seaborn as sns\n",
    "sns.set(color_codes=True)\n",
    "\n",
    "#https://pmall.univ-grenoble-alpes.fr/docs/auto_examples_code/windrose/windrose-exemple.html"
   ]
  },
  {
   "cell_type": "code",
   "execution_count": 4,
   "metadata": {},
   "outputs": [],
   "source": [
    "Date_sept=['20120901','20120902','20120903','20120904','20120905','20120906','20120907','20120908','20120909','20120910','20120911','20120912','20120913','20120914','20120915','20120916','20120917','20120918','20120919','20120920','20120921','20120922','20120923','20120924','20120925','20120926','20120927','20120928','20120929','20120930']\n",
    "Date_march=['20130301','20130302','20130303','20130304','20130305','20130306','20130307','20130308','20130309','20130310','20130311','20130312','20130313','20130314','20130315','20130316','20130317','20130318','20130319','20130320','20130321','20130322','20130323','20130324','20130325','20130326','20130327','20130328','20130329','20130330']\n",
    "Date_month={'march':Date_march,'sept':Date_sept}"
   ]
  },
  {
   "cell_type": "code",
   "execution_count": 10,
   "metadata": {},
   "outputs": [],
   "source": [
    "def get_mag_angle(box,month):\n",
    "    print('get mag and angle for box '+str(box)+' and month '+str(month))\n",
    "    Date=Date_month[month]\n",
    "    datasets_mag = []\n",
    "    datasets_tu = []\n",
    "    for date in Date:\n",
    "        zmag_file = '/scratch/cnt0024/hmg2840/albert7a/NATL60/NATL60-CJM165-S/1d/turner-angle/NATL60-CJM165_magR_norm_'+str(date)+'.1d_'+str(box)+'.nc'\n",
    "        ztu_file='/scratch/cnt0024/hmg2840/albert7a/NATL60/NATL60-CJM165-S/1d/turner-angle/NATL60-CJM165_Tu_norm_'+str(date)+'.1d_'+str(box)+'.nc'\n",
    "        zdsmag=xr.open_dataset(zmag_file)\n",
    "        zdstu=xr.open_dataset(ztu_file)\n",
    "        datasets_mag.append(zdsmag)\n",
    "        datasets_tu.append(zdstu)\n",
    "    all_mag=xr.concat(datasets_mag,dim='z')\n",
    "    all_tu=xr.concat(datasets_tu,dim='z')\n",
    "    magR=all_mag['magR']\n",
    "    Tu=all_tu['Tu']\n",
    "    return magR,Tu\n",
    "   \n",
    "    \n",
    "    "
   ]
  },
  {
   "cell_type": "code",
   "execution_count": 12,
   "metadata": {},
   "outputs": [
    {
     "name": "stdout",
     "output_type": "stream",
     "text": [
      "get mag and angle for box AC and month sept\n",
      "get mag and angle for box AC and month march\n"
     ]
    }
   ],
   "source": [
    "magR_sept_AC,Tu_sept_AC=get_mag_angle('AC','sept')\n",
    "magR_march_AC,Tu_march_AC=get_mag_angle('AC','march')\n",
    "#magR_sept_GS,Tu_sept_GS=get_mag_angle('GS','sept')\n",
    "#magR_march_GS,Tu_march_GS=get_mag_angle('GS','march')\n",
    "#magR_sept_NE,Tu_sept_NE=get_mag_angle('NE','sept')\n",
    "#magR_march_NE,Tu_march_NE=get_mag_angle('NE','march')\n"
   ]
  },
  {
   "cell_type": "code",
   "execution_count": 15,
   "metadata": {},
   "outputs": [
    {
     "data": {
      "text/plain": [
       "Text(0.5, 1.0, 'turner angle between grad T over grad S in AC box')"
      ]
     },
     "execution_count": 15,
     "metadata": {},
     "output_type": "execute_result"
    },
    {
     "data": {
      "image/png": "[encoded data removed]",
      "text/plain": [
       "<Figure size 1440x1080 with 2 Axes>"
      ]
     },
     "metadata": {
      "needs_background": "light"
     },
     "output_type": "display_data"
    }
   ],
   "source": [
    "fig = plt.figure(figsize=(20.0, 15.0))\n",
    "\n",
    "axes1 = fig.add_subplot(3, 2, 1)\n",
    "weights = np.ones_like(magR_sept_AC)/float(len(magR_sept_AC))\n",
    "axes1.hist(magR_sept_AC,30, alpha = 0.5,range=(0,4),color='r', weights=weights, label='sept')\n",
    "weights = np.ones_like(magR_march_AC)/float(len(magR_march_AC))\n",
    "axes1.hist(np.abs(magR_march_AC),30, alpha = 0.5,range=(0,4),color='b', weights=weights, label='march')\n",
    "axes1.axvline(1, color='k', linestyle='dashed', linewidth=1,label='ratio=1')\n",
    "\n",
    "plt.legend()\n",
    "plt.title('ratio grad T over grad S in AC box')\n",
    "\n",
    "axes2 = fig.add_subplot(3, 2, 2)\n",
    "weights = np.ones_like(Tu_sept_AC)/float(len(Tu_sept_AC))\n",
    "axes2.hist(Tu_sept_AC,30, alpha = 0.5,range=(0,np.pi/2),color='r', weights=weights, label='sept')\n",
    "weights = np.ones_like(Tu_march_AC)/float(len(Tu_march_AC))\n",
    "axes2.hist(np.abs(Tu_march_AC),30, alpha = 0.5,range=(0,np.pi/2),color='b', weights=weights, label='march')\n",
    "axes2.axvline(np.pi/2, color='k', linestyle='dashed', linewidth=1, label=r'angle =$\\pi$/2')\n",
    "axes2.axvline(np.pi/4, color='k', linestyle='dashed', linewidth=1, label=r'angle =$\\pi$/4')\n",
    "\n",
    "plt.legend()\n",
    "plt.title('turner angle between grad T over grad S in AC box')\n",
    "\n"
   ]
  },
  {
   "cell_type": "code",
   "execution_count": null,
   "metadata": {},
   "outputs": [],
   "source": [
    "axes3 = fig.add_subplot(3, 2, 3)\n",
    "weights = np.ones_like(magR_sept_GS)/float(len(magR_sept_GS))\n",
    "axes3.hist(magR_sept_GS,30, alpha = 0.5,range=(0,10),color='r', weights=weights, label='sept')\n",
    "weights = np.ones_like(magR_march_GS)/float(len(magR_march_GS))\n",
    "axes3.hist(np.abs(magR_march_GS),30, alpha = 0.5,range=(0,10),color='b', weights=weights, label='march')\n",
    "axes3.axvline(1, color='k', linestyle='dashed', linewidth=1,label='ratio=1')\n",
    "\n",
    "plt.legend()\n",
    "plt.title('ratio grad T over grad S in GS box')\n",
    "\n",
    "axes4 = fig.add_subplot(3, 2, 4)\n",
    "weights = np.ones_like(Tu_sept_GS)/float(len(Tu_sept_GS))\n",
    "axes4.hist(Tu_sept_GS,30, alpha = 0.5,range=(0,2),color='r', weights=weights, label='sept')\n",
    "weights = np.ones_like(Tu_march_GS)/float(len(Tu_march_GS))\n",
    "axes4.hist(np.abs(Tu_march_GS),30, alpha = 0.5,range=(0,2),color='b', weights=weights, label='march')\n",
    "axes2.axvline(np.pi/2, color='k', linestyle='dashed', linewidth=1, label=r'angle =$\\pi$/2')\n",
    "axes2.axvline(np.pi/4, color='k', linestyle='dashed', linewidth=1, label=r'angle =$\\pi$/4')\n",
    "\n",
    "plt.legend()\n",
    "plt.title('turner angle between grad T over grad S in GS box')\n",
    "\n",
    "axes5 = fig.add_subplot(3, 2, 5)\n",
    "weights = np.ones_like(magR_sept_NE)/float(len(magR_sept_NE))\n",
    "axes5.hist(magR_sept_NE,30, alpha = 0.5,range=(0,10),color='r', weights=weights, label='sept')\n",
    "weights = np.ones_like(magR_march_NE)/float(len(magR_march_NE))\n",
    "axes5.hist(np.abs(magR_march_NE),30, alpha = 0.5,range=(0,10),color='b', weights=weights, label='march')\n",
    "axes5.axvline(1, color='k', linestyle='dashed', linewidth=1,label='ratio=1')\n",
    "\n",
    "plt.legend()\n",
    "plt.title('ratio grad T over grad S in NE box')\n",
    "\n",
    "axes6 = fig.add_subplot(3, 2, 6)\n",
    "weights = np.ones_like(Tu_sept_NE)/float(len(Tu_sept_NE))\n",
    "axes6.hist(Tu_sept_NE,30, alpha = 0.5,range=(0,2),color='r', weights=weights, label='sept')\n",
    "weights = np.ones_like(Tu_march_NE)/float(len(Tu_march_NE))\n",
    "axes6.hist(np.abs(Tu_march_NE),30, alpha = 0.5,range=(0,2),color='b', weights=weights, label='march')\n",
    "axes2.axvline(np.pi/2, color='k', linestyle='dashed', linewidth=1, label=r'angle =$\\pi$/2')\n",
    "axes2.axvline(np.pi/4, color='k', linestyle='dashed', linewidth=1, label=r'angle =$\\pi$/4')\n",
    "\n",
    "plt.legend()\n",
    "plt.title('turner angle between grad T over grad S in NE box')\n"
   ]
  }
 ],
 "metadata": {
  "kernelspec": {
   "display_name": "Python 3",
   "language": "python",
   "name": "python3"
  },
  "language_info": {
   "codemirror_mode": {
    "name": "ipython",
    "version": 3
   },
   "file_extension": ".py",
   "mimetype": "text/x-python",
   "name": "python",
   "nbconvert_exporter": "python",
   "pygments_lexer": "ipython3",
   "version": "3.7.3"
  }
 },
 "nbformat": 4,
 "nbformat_minor": 2
}
